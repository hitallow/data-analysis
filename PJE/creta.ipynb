{
 "cells": [
  {
   "cell_type": "code",
   "execution_count": 1,
   "metadata": {},
   "outputs": [],
   "source": [
    "import pandas as pd\n",
    "import sqlite3 as sql3\n"
   ]
  },
  {
   "cell_type": "code",
   "execution_count": 3,
   "metadata": {},
   "outputs": [],
   "source": [
    "qtdLinhas = 100"
   ]
  },
  {
   "cell_type": "code",
   "execution_count": 2,
   "metadata": {},
   "outputs": [],
   "source": [
    "conn = sql3.connect(\"PJe-TRF.sqlite3/PJe-TRF.sqlite3\")"
   ]
  },
  {
   "cell_type": "code",
   "execution_count": 12,
   "metadata": {},
   "outputs": [],
   "source": [
    "# processos, informações úteis"
   ]
  },
  {
   "cell_type": "code",
   "execution_count": 4,
   "metadata": {},
   "outputs": [],
   "source": [
    "processos = pd.read_sql('select * from processos limit {}'.format(qtdLinhas), con = conn)"
   ]
  },
  {
   "cell_type": "code",
   "execution_count": 5,
   "metadata": {},
   "outputs": [
    {
     "data": {
      "text/html": [
       "<div>\n",
       "<style scoped>\n",
       "    .dataframe tbody tr th:only-of-type {\n",
       "        vertical-align: middle;\n",
       "    }\n",
       "\n",
       "    .dataframe tbody tr th {\n",
       "        vertical-align: top;\n",
       "    }\n",
       "\n",
       "    .dataframe thead th {\n",
       "        text-align: right;\n",
       "    }\n",
       "</style>\n",
       "<table border=\"1\" class=\"dataframe\">\n",
       "  <thead>\n",
       "    <tr style=\"text-align: right;\">\n",
       "      <th></th>\n",
       "      <th>num_processo</th>\n",
       "      <th>polo_ativo</th>\n",
       "      <th>polo_passivo</th>\n",
       "      <th>data_distrib</th>\n",
       "      <th>orgao_julgador</th>\n",
       "      <th>classe_judicial</th>\n",
       "      <th>assunto</th>\n",
       "      <th>assuntos_tabela</th>\n",
       "      <th>url_atual</th>\n",
       "      <th>fonte_pagina</th>\n",
       "    </tr>\n",
       "  </thead>\n",
       "  <tbody>\n",
       "    <tr>\n",
       "      <th>0</th>\n",
       "      <td>0819306-76.2017.4.05.8300</td>\n",
       "      <td>JOSE EDSON DA SILVA LINS\\nAPELANTE\\n    JOAO L...</td>\n",
       "      <td>INSTITUTO NACIONAL DO SEGURO SOCIAL - INSS\\nAP...</td>\n",
       "      <td>27/07/2018</td>\n",
       "      <td>Gab 15 - Des. EDILSON NOBRE</td>\n",
       "      <td>APELAÇÃO CÍVEL</td>\n",
       "      <td>DIREITO PREVIDENCIÁRIO|Benefícios em Espécie|A...</td>\n",
       "      <td>DIREITO PREVIDENCIÁRIO|Benefícios em Espécie|A...</td>\n",
       "      <td>https://pje.trf5.jus.br/pje/ConsultaPublica/De...</td>\n",
       "      <td>&lt;html xmlns=\"http://www.w3.org/1999/xhtml\"&gt;&lt;he...</td>\n",
       "    </tr>\n",
       "    <tr>\n",
       "      <th>1</th>\n",
       "      <td>0819287-70.2017.4.05.8300</td>\n",
       "      <td>INSTITUTO NACIONAL DO SEGURO SOCIAL - INSS\\nAP...</td>\n",
       "      <td>TOMAS DE ALBUQUERQUE LAPA\\nAPELADO\\n    RICARD...</td>\n",
       "      <td>23/04/2018</td>\n",
       "      <td>Gab 2 - Des. ALEXANDRE LUNA FREIRE</td>\n",
       "      <td>APELAÇÃO CÍVEL</td>\n",
       "      <td>DIREITO ADMINISTRATIVO E OUTRAS MATÉRIAS DE DI...</td>\n",
       "      <td>DIREITO ADMINISTRATIVO E OUTRAS MATÉRIAS DE DI...</td>\n",
       "      <td>https://pje.trf5.jus.br/pje/ConsultaPublica/De...</td>\n",
       "      <td>&lt;html xmlns=\"http://www.w3.org/1999/xhtml\"&gt;&lt;he...</td>\n",
       "    </tr>\n",
       "    <tr>\n",
       "      <th>2</th>\n",
       "      <td>0819272-04.2017.4.05.8300</td>\n",
       "      <td>SHEILA MARIA VIEIRA DE ALMEIDA\\nAPELANTE\\n    ...</td>\n",
       "      <td>INSTITUTO NACIONAL DO SEGURO SOCIAL - INSS\\nAP...</td>\n",
       "      <td>21/11/2018</td>\n",
       "      <td>Gab 12 - Des. VLADIMIR CARVALHO</td>\n",
       "      <td>APELAÇÃO CÍVEL</td>\n",
       "      <td>DIREITO PREVIDENCIÁRIO|Benefícios em Espécie|A...</td>\n",
       "      <td>DIREITO PREVIDENCIÁRIO|Benefícios em Espécie|A...</td>\n",
       "      <td>https://pje.trf5.jus.br/pje/ConsultaPublica/De...</td>\n",
       "      <td>&lt;html xmlns=\"http://www.w3.org/1999/xhtml\"&gt;&lt;he...</td>\n",
       "    </tr>\n",
       "    <tr>\n",
       "      <th>3</th>\n",
       "      <td>0819217-53.2017.4.05.8300</td>\n",
       "      <td>KLEBER FERREIRA DA SILVA\\nAPELANTE\\n    GENER ...</td>\n",
       "      <td>INSTITUTO NACIONAL DO SEGURO SOCIAL - INSS\\nAP...</td>\n",
       "      <td>24/10/2018</td>\n",
       "      <td>Gab 2 - Des. ALEXANDRE LUNA FREIRE</td>\n",
       "      <td>APELAÇÃO CÍVEL</td>\n",
       "      <td>DIREITO PREVIDENCIÁRIO|Benefícios em Espécie|P...</td>\n",
       "      <td>DIREITO PREVIDENCIÁRIO|Benefícios em Espécie|P...</td>\n",
       "      <td>https://pje.trf5.jus.br/pje/ConsultaPublica/De...</td>\n",
       "      <td>&lt;html xmlns=\"http://www.w3.org/1999/xhtml\"&gt;&lt;he...</td>\n",
       "    </tr>\n",
       "    <tr>\n",
       "      <th>4</th>\n",
       "      <td>0819216-68.2017.4.05.8300</td>\n",
       "      <td>INSTITUTO NACIONAL DO SEGURO SOCIAL - INSS\\nAP...</td>\n",
       "      <td>ANTONIO ALVES TIMOTEO JUNIOR\\nAPELADO\\n    luc...</td>\n",
       "      <td>09/08/2018</td>\n",
       "      <td>Gab 1 - Des. LÁZARO GUIMARÃES</td>\n",
       "      <td>APELAÇÃO CÍVEL</td>\n",
       "      <td>DIREITO PREVIDENCIÁRIO|Benefícios em Espécie|A...</td>\n",
       "      <td>DIREITO PREVIDENCIÁRIO|Benefícios em Espécie|A...</td>\n",
       "      <td>https://pje.trf5.jus.br/pje/ConsultaPublica/De...</td>\n",
       "      <td>&lt;html xmlns=\"http://www.w3.org/1999/xhtml\"&gt;&lt;he...</td>\n",
       "    </tr>\n",
       "  </tbody>\n",
       "</table>\n",
       "</div>"
      ],
      "text/plain": [
       "                num_processo  \\\n",
       "0  0819306-76.2017.4.05.8300   \n",
       "1  0819287-70.2017.4.05.8300   \n",
       "2  0819272-04.2017.4.05.8300   \n",
       "3  0819217-53.2017.4.05.8300   \n",
       "4  0819216-68.2017.4.05.8300   \n",
       "\n",
       "                                          polo_ativo  \\\n",
       "0  JOSE EDSON DA SILVA LINS\\nAPELANTE\\n    JOAO L...   \n",
       "1  INSTITUTO NACIONAL DO SEGURO SOCIAL - INSS\\nAP...   \n",
       "2  SHEILA MARIA VIEIRA DE ALMEIDA\\nAPELANTE\\n    ...   \n",
       "3  KLEBER FERREIRA DA SILVA\\nAPELANTE\\n    GENER ...   \n",
       "4  INSTITUTO NACIONAL DO SEGURO SOCIAL - INSS\\nAP...   \n",
       "\n",
       "                                        polo_passivo data_distrib  \\\n",
       "0  INSTITUTO NACIONAL DO SEGURO SOCIAL - INSS\\nAP...   27/07/2018   \n",
       "1  TOMAS DE ALBUQUERQUE LAPA\\nAPELADO\\n    RICARD...   23/04/2018   \n",
       "2  INSTITUTO NACIONAL DO SEGURO SOCIAL - INSS\\nAP...   21/11/2018   \n",
       "3  INSTITUTO NACIONAL DO SEGURO SOCIAL - INSS\\nAP...   24/10/2018   \n",
       "4  ANTONIO ALVES TIMOTEO JUNIOR\\nAPELADO\\n    luc...   09/08/2018   \n",
       "\n",
       "                       orgao_julgador classe_judicial  \\\n",
       "0         Gab 15 - Des. EDILSON NOBRE  APELAÇÃO CÍVEL   \n",
       "1  Gab 2 - Des. ALEXANDRE LUNA FREIRE  APELAÇÃO CÍVEL   \n",
       "2     Gab 12 - Des. VLADIMIR CARVALHO  APELAÇÃO CÍVEL   \n",
       "3  Gab 2 - Des. ALEXANDRE LUNA FREIRE  APELAÇÃO CÍVEL   \n",
       "4       Gab 1 - Des. LÁZARO GUIMARÃES  APELAÇÃO CÍVEL   \n",
       "\n",
       "                                             assunto  \\\n",
       "0  DIREITO PREVIDENCIÁRIO|Benefícios em Espécie|A...   \n",
       "1  DIREITO ADMINISTRATIVO E OUTRAS MATÉRIAS DE DI...   \n",
       "2  DIREITO PREVIDENCIÁRIO|Benefícios em Espécie|A...   \n",
       "3  DIREITO PREVIDENCIÁRIO|Benefícios em Espécie|P...   \n",
       "4  DIREITO PREVIDENCIÁRIO|Benefícios em Espécie|A...   \n",
       "\n",
       "                                     assuntos_tabela  \\\n",
       "0  DIREITO PREVIDENCIÁRIO|Benefícios em Espécie|A...   \n",
       "1  DIREITO ADMINISTRATIVO E OUTRAS MATÉRIAS DE DI...   \n",
       "2  DIREITO PREVIDENCIÁRIO|Benefícios em Espécie|A...   \n",
       "3  DIREITO PREVIDENCIÁRIO|Benefícios em Espécie|P...   \n",
       "4  DIREITO PREVIDENCIÁRIO|Benefícios em Espécie|A...   \n",
       "\n",
       "                                           url_atual  \\\n",
       "0  https://pje.trf5.jus.br/pje/ConsultaPublica/De...   \n",
       "1  https://pje.trf5.jus.br/pje/ConsultaPublica/De...   \n",
       "2  https://pje.trf5.jus.br/pje/ConsultaPublica/De...   \n",
       "3  https://pje.trf5.jus.br/pje/ConsultaPublica/De...   \n",
       "4  https://pje.trf5.jus.br/pje/ConsultaPublica/De...   \n",
       "\n",
       "                                        fonte_pagina  \n",
       "0  <html xmlns=\"http://www.w3.org/1999/xhtml\"><he...  \n",
       "1  <html xmlns=\"http://www.w3.org/1999/xhtml\"><he...  \n",
       "2  <html xmlns=\"http://www.w3.org/1999/xhtml\"><he...  \n",
       "3  <html xmlns=\"http://www.w3.org/1999/xhtml\"><he...  \n",
       "4  <html xmlns=\"http://www.w3.org/1999/xhtml\"><he...  "
      ]
     },
     "execution_count": 5,
     "metadata": {},
     "output_type": "execute_result"
    }
   ],
   "source": [
    "processos.head()"
   ]
  },
  {
   "cell_type": "code",
   "execution_count": 16,
   "metadata": {},
   "outputs": [
    {
     "data": {
      "text/plain": [
       "Gab 8 - Des. FERNANDO BRAGA             16\n",
       "Gab 5 - Des. ROBERTO MACHADO            12\n",
       "Gab 15 - Des. EDILSON NOBRE             12\n",
       "Gab 2 - Des. ALEXANDRE LUNA FREIRE      11\n",
       "Gab 1 - Des. LÁZARO GUIMARÃES            8\n",
       "Gab 7 - Des. PAULO ROBERTO               8\n",
       "Gab 13 - Des. ROGÉRIO FIALHO MOREIRA     7\n",
       "Gab 10 - Des. RUBENS CANUTO              7\n",
       "Gab 9 - Des. ÉLIO SIQUEIRA               6\n",
       "Gab 14 - Des. CARLOS REBELO              5\n",
       "Gab 12 - Des. VLADIMIR CARVALHO          4\n",
       "Gab 4 - Des. LEONARDO CARVALHO           3\n",
       "Gabinete SREEO                           1\n",
       "Name: orgao_julgador, dtype: int64"
      ]
     },
     "execution_count": 16,
     "metadata": {},
     "output_type": "execute_result"
    }
   ],
   "source": [
    "# da pra calcular todos os valores criando um interator e somando series\n",
    "processos.orgao_julgador.value_counts()"
   ]
  },
  {
   "cell_type": "code",
   "execution_count": 21,
   "metadata": {},
   "outputs": [
    {
     "data": {
      "text/plain": [
       "APELAÇÃO CÍVEL            NaN\n",
       "AGRAVO DE INSTRUMENTO     NaN\n",
       "CONFLITO DE COMPETÊNCIA   NaN\n",
       "dtype: float64"
      ]
     },
     "execution_count": 21,
     "metadata": {},
     "output_type": "execute_result"
    }
   ],
   "source": [
    "# da pra calcular todos os valores criando um interator e somando series\n",
    "a = pd.Series([])\n",
    "a = a+processos.classe_judicial.value_counts()\n",
    "a.head()"
   ]
  },
  {
   "cell_type": "code",
   "execution_count": 9,
   "metadata": {
    "scrolled": true
   },
   "outputs": [
    {
     "data": {
      "text/plain": [
       "APELAÇÃO CÍVEL             192\n",
       "AGRAVO DE INSTRUMENTO        6\n",
       "CONFLITO DE COMPETÊNCIA      2\n",
       "Name: classe_judicial, dtype: int64"
      ]
     },
     "execution_count": 9,
     "metadata": {},
     "output_type": "execute_result"
    }
   ],
   "source": []
  }
 ],
 "metadata": {
  "kernelspec": {
   "display_name": "Python 3",
   "language": "python",
   "name": "python3"
  },
  "language_info": {
   "codemirror_mode": {
    "name": "ipython",
    "version": 3
   },
   "file_extension": ".py",
   "mimetype": "text/x-python",
   "name": "python",
   "nbconvert_exporter": "python",
   "pygments_lexer": "ipython3",
   "version": "3.7.3"
  }
 },
 "nbformat": 4,
 "nbformat_minor": 2
}
