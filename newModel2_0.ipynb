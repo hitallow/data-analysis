{
 "cells": [
  {
   "cell_type": "code",
   "execution_count": 2,
   "metadata": {
    "colab": {},
    "colab_type": "code",
    "id": "zkaEFUg38ota"
   },
   "outputs": [],
   "source": [
    "import pandas as pd\n",
    "import matplotlib.pyplot as plt\n",
    "import numpy as np\n",
    "import colorsys\n",
    "%matplotlib inline"
   ]
  },
  {
   "cell_type": "code",
   "execution_count": 2,
   "metadata": {
    "colab": {},
    "colab_type": "code",
    "id": "ns1IydbZ8otf"
   },
   "outputs": [],
   "source": [
    "pd.options.display.max_columns = 100\n",
    "pd.options.display.max_rows = 100"
   ]
  },
  {
   "cell_type": "code",
   "execution_count": 3,
   "metadata": {
    "colab": {},
    "colab_type": "code",
    "id": "3MF2cQRFDi4Z"
   },
   "outputs": [],
   "source": [
    "def convertToCategory(df):\n",
    "    gl_obj = df.select_dtypes(include=['object']).copy()\n",
    "    dfObjects = pd.DataFrame()    \n",
    "    for col in gl_obj.columns:\n",
    "        valoresUnicos = len(gl_obj[col].unique())\n",
    "        totalValores = len(gl_obj[col])\n",
    "        if valoresUnicos / totalValores < 0.5:\n",
    "            dfObjects.loc[:,col] = gl_obj[col].astype('category')\n",
    "        else:\n",
    "            dfObjects.loc[:,col] = gl_obj[col]\n",
    "    return dfObjects\n",
    "\n",
    "def memoryUsage(pandas_obj):\n",
    "    if isinstance(pandas_obj,pd.DataFrame):\n",
    "        usage_b = pandas_obj.memory_usage(deep=True).sum()\n",
    "    else: \n",
    "        usage_b = pandas_obj.memory_usage(deep=True)\n",
    "    usage_mb = usage_b / 1024 ** 2 \n",
    "    return \"{:03.2f} MB\".format(usage_mb)\n",
    "def sep(newDf):\n",
    "    newDf['unidade1'] = 0\n",
    "    newDf['unidade2'] = 0\n",
    "    newDf['unidade3'] = 0\n",
    "    newDf['unidade4'] = 0    \n",
    "    newDf['unidade1'] = (newDf['nota']).where(newDf['flag1'] == 1)\n",
    "    newDf['unidade2'] = (newDf['nota']).where(newDf['flag2'] == 1)\n",
    "    newDf['unidade3'] = (newDf['nota']).where(newDf['flag3'] == 1)\n",
    "    newDf['unidade4'] = (newDf['nota']).where(newDf['flag4'] == 1)\n",
    "    newDf['unidade1'].where(newDf['unidade1'].notna() , 0, inplace=True)\n",
    "    newDf['unidade2'].where(newDf['unidade2'].notna() , 0, inplace=True)\n",
    "    newDf['unidade3'].where(newDf['unidade3'].notna() , 0, inplace=True)\n",
    "    newDf['unidade4'].where(newDf['unidade4'].notna() , 0, inplace=True) \n",
    "    newDf.drop(columns = ['flag1','flag2','flag3','flag4','faltas_unidade','nota'] , inplace=True)\n",
    "    return newDf    "
   ]
  },
  {
   "cell_type": "markdown",
   "metadata": {
    "colab_type": "text",
    "id": "NmXjed9_8oth"
   },
   "source": [
    "# Lendo os df com as notas dos alunos e tratando"
   ]
  },
  {
   "cell_type": "code",
   "execution_count": null,
   "metadata": {
    "colab_type": "raw",
    "id": "xo6cX0qg8otj"
   },
   "outputs": [],
   "source": [
    "df20101 = pd.read_csv('../arquivos_csv/matricula-componente-20101.csv', sep=';', encoding='utf8')\n",
    "df20102 = pd.read_csv('../arquivos_csv/matricula-componente-20102.csv', sep=';', encoding='utf8')\n",
    "df20111 = pd.read_csv('../arquivos_csv/matricula-componente-20111.csv', sep=';', encoding='utf8')\n",
    "df20112 = pd.read_csv('../arquivos_csv/matricula-componente-20112.csv', sep=';', encoding='utf8')\n",
    "df20121 = pd.read_csv('../arquivos_csv/matricula-componente-20121.csv', sep=';', encoding='utf8')\n",
    "df20122 = pd.read_csv('../arquivos_csv/matricula-componente-20122.csv', sep=';', encoding='utf8')\n",
    "df20131 = pd.read_csv('../arquivos_csv/matricula-componente-20131.csv', sep=';', encoding='utf8')\n",
    "df20132 = pd.read_csv('../arquivos_csv/matricula-componente-20132.csv', sep=';', encoding='utf8')\n",
    "df20171 = pd.read_csv('../arquivos_csv/matricula-componente-20171.csv', sep=';', encoding='utf8')\n",
    "df20172 = pd.read_csv('../arquivos_csv/matricula-componente-20172.csv',sep=';',encoding='utf8',engine='c')\n",
    "\n",
    "df20162 = pd.read_csv('../arquivos_csv/matriculas-de-20162.csv', sep=';', encoding='utf8')\n",
    "df20141 = pd.read_csv('../arquivos_csv/matricula-componente-20141.csv', sep=';', encoding='utf8')\n",
    "df20142 = pd.read_csv('../arquivos_csv/matricula-componente-20142.csv', sep=';', encoding='utf8')\n",
    "df20151 = pd.read_csv('../arquivos_csv/matriculas-de-2015.1.csv', sep=';', encoding='utf8')\n",
    "df20152 = pd.read_csv('../arquivos_csv/matriculas-de-2015.2.csv', sep=';', encoding='utf8')\n",
    "\n",
    "\n",
    "df20101.shape ,df20102.shape ,df20111.shape , df20112.shape ,df20121.shape, df20122.shape,df20131.shape ,  df20132.shape,df20141.shape, df20142.shape , df20151.shape , df20152.shape , df20161.shape , df20162.shape , df20171.shape , df20172.shape "
   ]
  },
  {
   "cell_type": "code",
   "execution_count": 3,
   "metadata": {},
   "outputs": [],
   "source": [
    "df20161 = pd.read_csv('../arquivos_csv/matriculas-de-20161.csv', sep=';', encoding='utf8')"
   ]
  },
  {
   "cell_type": "code",
   "execution_count": null,
   "metadata": {
    "colab": {},
    "colab_type": "code",
    "id": "bD-y_Uj08otj"
   },
   "outputs": [],
   "source": [
    "# Lendo por link\n",
    "\n",
    "\n",
    "\n",
    "df20171 = pd.read_csv('http://dados.ufrn.br/dataset/c8650d55-3c5a-4787-a126-d28a4ef902a6/resource/79071c21-e32c-438f-b930-d1b6ccc02ec2/download/matricula-componente-20171.csv',sep=';',encoding='utf8')\n",
    "df20172 = pd.read_csv('http://dados.ufrn.br/dataset/c8650d55-3c5a-4787-a126-d28a4ef902a6/resource/55dfe713-ff7c-4fa8-8d1d-d4294a025bff/download/matricula-componente-20172.csv',sep=';',encoding='utf8')\n",
    "df20161 = pd.read_csv('http://dados.ufrn.br/dataset/c8650d55-3c5a-4787-a126-d28a4ef902a6/resource/4778d3ce-8898-46a8-a623-ee6a480a2980/download/matriculas-de-2016.1.csv',encoding='utf8',sep=';')\n",
    "df20162 = pd.read_csv('http://dados.ufrn.br/dataset/c8650d55-3c5a-4787-a126-d28a4ef902a6/resource/f6179838-b619-4d7d-af9c-18c438b80dd4/download/matriculas-de-2016.2.csv',encoding='utf8',sep=';')\n",
    "df20151 = pd.read_csv('http://dados.ufrn.br/dataset/c8650d55-3c5a-4787-a126-d28a4ef902a6/resource/9e7ba1c2-f92d-4b9c-9e91-3b026ecdf913/download/matriculas-de-2015.1.csv',encoding='utf8',sep=';')\n",
    "df20152 = pd.read_csv('http://dados.ufrn.br/dataset/c8650d55-3c5a-4787-a126-d28a4ef902a6/resource/baa6c8b4-2072-417f-b238-c028ccc8c14b/download/matriculas-de-2015.2.csv',encoding='utf8',sep=';')\n",
    "df20141 = pd.read_csv('http://dados.ufrn.br/dataset/c8650d55-3c5a-4787-a126-d28a4ef902a6/resource/7081446d-39f9-4374-ad0b-86ecab97e569/download/matricula-componente-20141.csv',encoding='utf8',sep=';')\n",
    "df20142 = pd.read_csv('http://dados.ufrn.br/dataset/c8650d55-3c5a-4787-a126-d28a4ef902a6/resource/e974792c-b557-470c-bf3d-ede7d5b5e6a6/download/matricula-componente-20142.csv',encoding='utf8',sep=';')\n",
    "#df20132 =  pd.read_csv('http://dados.ufrn.br/dataset/c8650d55-3c5a-4787-a126-d28a4ef902a6/resource/517ed5f6-f8a2-40fd-826b-6ed3388f6e88/download/matricula-componente-20132.csv',encoding='utf8',sep=';')\n",
    "#df20131 =  pd.read_csv('http://dados.ufrn.br/dataset/c8650d55-3c5a-4787-a126-d28a4ef902a6/resource/674de4cc-1fc0-4314-9f04-a38f0e1f9225/download/matricula-componente-20131.csv',encoding='utf8',sep=';')\n",
    "#df20121 =  pd.read_csv('http://dados.ufrn.br/dataset/c8650d55-3c5a-4787-a126-d28a4ef902a6/resource/28d90237-a056-4768-b790-64d7ff6308c2/download/matricula-componente-20121.csv',encoding='utf8',sep=';')\n",
    "#df20122 =  pd.read_csv('http://dados.ufrn.br/dataset/c8650d55-3c5a-4787-a126-d28a4ef902a6/resource/f2487ebc-e1d7-4fef-ac5d-542636448207/download/matricula-componente-20122.csv',encoding='utf8',sep=';')\n",
    "#df20111 =  pd.read_csv('http://dados.ufrn.br/dataset/c8650d55-3c5a-4787-a126-d28a4ef902a6/resource/919193f3-c3a9-46e5-a186-30486f228385/download/matricula-componente-20111.csv',encoding='utf8',sep=';')\n",
    "#df20112 =  pd.read_csv('http://dados.ufrn.br/dataset/c8650d55-3c5a-4787-a126-d28a4ef902a6/resource/63aca0fb-6bde-4e0b-aa3a-b2d1baa22deb/download/matricula-componente-20112.csv',encoding='utf8',sep=';')\n",
    "#df20101 =  pd.read_csv('http://dados.ufrn.br/dataset/c8650d55-3c5a-4787-a126-d28a4ef902a6/resource/d44017d7-8390-45c1-8073-82c0d1f57847/download/matricula-componente-20101.csv',encoding='utf8',sep=';')\n",
    "#df20102 =  pd.read_csv('http://dados.ufrn.br/dataset/c8650d55-3c5a-4787-a126-d28a4ef902a6/resource/34857034-d117-491b-aace-4d389df76051/download/matricula-componente-20102.csv',encoding='utf8',sep=';')\n",
    "\n",
    "\n",
    "\n",
    "#df20101.shape ,df20102.shape ,df20111.shape , df20112.shape ,df20121.shape, df20122.shape,df20131.shape ,  df20132.shape,df20141.shape, df20142.shape , df20151.shape , df20152.shape , df20161.shape , df20162.shape , df20171.shape , df20172.shape"
   ]
  },
  {
   "cell_type": "code",
   "execution_count": null,
   "metadata": {
    "colab": {
     "base_uri": "https://localhost:8080/",
     "height": 204
    },
    "colab_type": "code",
    "id": "L3BBAOfZ8otr",
    "outputId": "347eeb68-ccf1-4603-ed90-355ea1d3f6a3"
   },
   "outputs": [],
   "source": [
    "df20152.head()"
   ]
  },
  {
   "cell_type": "code",
   "execution_count": null,
   "metadata": {
    "colab": {},
    "colab_type": "code",
    "id": "c0LybL0p8otv"
   },
   "outputs": [],
   "source": [
    "#df20101['semestre_ano'] = 1\n",
    "#df20102['semestre_ano'] = 2\n",
    "#df20111['semestre_ano'] = 1\n",
    "#df20112['semestre_ano'] = 2\n",
    "#df20121['semestre_ano'] = 1\n",
    "#df20122['semestre_ano'] = 2\n",
    "#df20131['semestre_ano'] = 1\n",
    "#df20132['semestre_ano'] = 2\n",
    "df20141['semestre_ano'] = 1\n",
    "df20142['semestre_ano'] = 2\n",
    "df20151['semestre_ano'] = 1\n",
    "df20152['semestre_ano'] = 2\n",
    "df20161['semestre_ano'] = 1\n",
    "df20162['semestre_ano'] = 2\n",
    "df20171['semestre_ano'] = 1\n",
    "df20172['semestre_ano'] = 2"
   ]
  },
  {
   "cell_type": "code",
   "execution_count": null,
   "metadata": {
    "colab": {},
    "colab_type": "code",
    "id": "CiweLIjp8oty",
    "scrolled": true
   },
   "outputs": [],
   "source": [
    "df20151.drop(columns=['Unnamed: 10'],inplace=True)\n",
    "df20152.drop(columns=['Unnamed: 10'],inplace=True)\n",
    "df20161.drop(columns=['Unnamed: 10'],inplace=True)\n",
    "df20162.drop(columns=['Unnamed: 10'],inplace=True)"
   ]
  },
  {
   "cell_type": "code",
   "execution_count": null,
   "metadata": {
    "colab": {},
    "colab_type": "code",
    "id": "pvLKsVc68ot4"
   },
   "outputs": [],
   "source": [
    "#df20101 = df20101.dropna()\n",
    "#df20102 = df20102.dropna()\n",
    "#df20111 = df20111.dropna()\n",
    "#df20112 = df20112.dropna()\n",
    "#df20121 = df20121.dropna()\n",
    "#df20122 = df20122.dropna()\n",
    "#df20131 = df20131.dropna()\n",
    "#df20132 = df20132.dropna()\n",
    "df20141 = df20141.dropna()\n",
    "df20142 = df20142.dropna()\n",
    "df20151 = df20151.dropna()\n",
    "df20152 = df20152.dropna()\n",
    "df20161 = df20161.dropna()\n",
    "df20162 = df20162.dropna()\n",
    "df20171 = df20171.dropna()\n",
    "df20172 = df20172.dropna()"
   ]
  },
  {
   "cell_type": "code",
   "execution_count": null,
   "metadata": {
    "colab": {},
    "colab_type": "code",
    "id": "DCqAYjOz8ot8"
   },
   "outputs": [],
   "source": [
    "#df20101.shape , df20102.shape , df20111.shape , df20112.shape , df20121.shape , df20122.shape , df20131.shape , df20132.shape, df20141.shape , df20142.shape , df20151.shape , df20152.shape,df20161.shape , df20162.shape , df20171.shape , df20172.shape "
   ]
  },
  {
   "cell_type": "code",
   "execution_count": null,
   "metadata": {
    "colab": {
     "base_uri": "https://localhost:8080/",
     "height": 153
    },
    "colab_type": "code",
    "id": "RMli9CImIt3Q",
    "outputId": "5d4a9a5f-3270-4fd4-ca55-47ba5f8927c3"
   },
   "outputs": [],
   "source": [
    "df20141.shape , df20142.shape , df20151.shape , df20152.shape,df20161.shape , df20162.shape , df20171.shape , df20172.shape "
   ]
  },
  {
   "cell_type": "code",
   "execution_count": null,
   "metadata": {
    "colab": {
     "base_uri": "https://localhost:8080/",
     "height": 34
    },
    "colab_type": "code",
    "id": "8Y0qk6688ouB",
    "outputId": "6719f8e2-40e0-4b58-8e30-66fc7bf77a4a"
   },
   "outputs": [],
   "source": [
    "newDf = pd.DataFrame()\n",
    "type(newDf)"
   ]
  },
  {
   "cell_type": "code",
   "execution_count": null,
   "metadata": {
    "colab": {},
    "colab_type": "code",
    "id": "ek05hhx48ouI"
   },
   "outputs": [],
   "source": [
    "#newDf = pd.concat([df20101 , df20102 ,df20111 ,df20112 ,df20121 , df20122,  df20131,  df20132,df20141, df20142 , df20151 ,df20152 ,df20161 ,df20162 ,df20171 ,df20172 ])"
   ]
  },
  {
   "cell_type": "code",
   "execution_count": null,
   "metadata": {
    "colab": {},
    "colab_type": "code",
    "id": "iVcWyaZsIKrd"
   },
   "outputs": [],
   "source": [
    "newDf = pd.concat([ df20141, df20142 , df20151 ,df20152 ,df20161 ,df20162 ,df20171 ,df20172 ])"
   ]
  },
  {
   "cell_type": "code",
   "execution_count": null,
   "metadata": {
    "colab": {},
    "colab_type": "code",
    "id": "nyaxgYiTDi47"
   },
   "outputs": [],
   "source": [
    "newDf['semestre_ano'] =newDf['semestre_ano'].astype('uint8')"
   ]
  },
  {
   "cell_type": "code",
   "execution_count": null,
   "metadata": {
    "colab": {
     "base_uri": "https://localhost:8080/",
     "height": 34
    },
    "colab_type": "code",
    "id": "FWf2bb2I8ouM",
    "outputId": "d15deb62-b91e-47c7-abe0-8a2fba440ba4"
   },
   "outputs": [],
   "source": [
    "newDf.shape"
   ]
  },
  {
   "cell_type": "code",
   "execution_count": null,
   "metadata": {
    "colab": {},
    "colab_type": "code",
    "id": "87aJnWcK8ouS"
   },
   "outputs": [],
   "source": [
    "newDf.drop_duplicates(inplace=True)"
   ]
  },
  {
   "cell_type": "code",
   "execution_count": null,
   "metadata": {
    "colab": {
     "base_uri": "https://localhost:8080/",
     "height": 34
    },
    "colab_type": "code",
    "id": "2su__3tt8ouY",
    "outputId": "667e6ef6-e1a4-48c9-e3dd-af6ae21b0a0b"
   },
   "outputs": [],
   "source": [
    "newDf.shape"
   ]
  },
  {
   "cell_type": "code",
   "execution_count": null,
   "metadata": {
    "colab": {},
    "colab_type": "code",
    "id": "hMUgH6Jh8oue"
   },
   "outputs": [],
   "source": [
    "newDf = pd.get_dummies(newDf, columns=['unidade'], prefix='flag')\n",
    "newDf.rename(columns= {'flag_1.0':'flag1' ,'flag_2.0':'flag2' , 'flag_3.0': 'flag3' , 'flag_4.0':'flag4'}, inplace=True)"
   ]
  },
  {
   "cell_type": "code",
   "execution_count": null,
   "metadata": {
    "colab": {
     "base_uri": "https://localhost:8080/",
     "height": 85
    },
    "colab_type": "code",
    "id": "lwQdYpxo8oui",
    "outputId": "bfd36c82-7bb4-47e0-da61-0890ac867f10"
   },
   "outputs": [],
   "source": [
    "newDf.columns"
   ]
  },
  {
   "cell_type": "code",
   "execution_count": null,
   "metadata": {
    "colab": {},
    "colab_type": "code",
    "id": "MdVRUXnS8ouz"
   },
   "outputs": [],
   "source": [
    "newDf = sep(newDf)\n",
    "newDf.drop_duplicates(inplace=True)"
   ]
  },
  {
   "cell_type": "code",
   "execution_count": null,
   "metadata": {
    "colab": {
     "base_uri": "https://localhost:8080/",
     "height": 85
    },
    "colab_type": "code",
    "id": "f8BuYOfj8ou3",
    "outputId": "7d97314f-32e3-483c-e213-a2c8e5a9c1c9"
   },
   "outputs": [],
   "source": [
    "newDf.columns"
   ]
  },
  {
   "cell_type": "code",
   "execution_count": null,
   "metadata": {
    "colab": {
     "base_uri": "https://localhost:8080/",
     "height": 204
    },
    "colab_type": "code",
    "id": "KMMYqRKY8ou7",
    "outputId": "aaca4383-aaa1-4df8-cff1-77a0029b38e7"
   },
   "outputs": [],
   "source": [
    "newDf.head()"
   ]
  },
  {
   "cell_type": "code",
   "execution_count": null,
   "metadata": {
    "colab": {},
    "colab_type": "code",
    "id": "hFwxp9VrDi5X"
   },
   "outputs": [],
   "source": []
  },
  {
   "cell_type": "code",
   "execution_count": null,
   "metadata": {
    "colab": {},
    "colab_type": "code",
    "id": "8aq21_n98ou_"
   },
   "outputs": [],
   "source": [
    "#newDf.drop(columns=['unidade__4.0'] , inplace=True)"
   ]
  },
  {
   "cell_type": "code",
   "execution_count": null,
   "metadata": {
    "colab": {
     "base_uri": "https://localhost:8080/",
     "height": 979
    },
    "colab_type": "code",
    "id": "RKFhP8oB8ovD",
    "outputId": "a4f8bc4a-9e17-4d56-d6b9-f0a69f673a58",
    "scrolled": true
   },
   "outputs": [],
   "source": [
    "newDf.head(30)"
   ]
  },
  {
   "cell_type": "code",
   "execution_count": null,
   "metadata": {
    "colab": {
     "base_uri": "https://localhost:8080/",
     "height": 328
    },
    "colab_type": "code",
    "id": "iAeU0ivs8ovF",
    "outputId": "4df56e8c-3be5-4339-b74a-de7338894056"
   },
   "outputs": [],
   "source": [
    "newDf.corr()"
   ]
  },
  {
   "cell_type": "code",
   "execution_count": null,
   "metadata": {
    "colab": {
     "base_uri": "https://localhost:8080/",
     "height": 34
    },
    "colab_type": "code",
    "id": "t0LcI65F8ovI",
    "outputId": "8b71b9fa-5633-4455-e11f-f87192f7f726",
    "scrolled": true
   },
   "outputs": [],
   "source": [
    "#Somando os resultados\n",
    "newDf = newDf.groupby(by=['id_turma','discente','id_curso','semestre_ano','descricao','media_final'])['unidade1','unidade2','unidade3','unidade4'].sum()\n",
    "newDf.shape"
   ]
  },
  {
   "cell_type": "code",
   "execution_count": null,
   "metadata": {
    "colab": {
     "base_uri": "https://localhost:8080/",
     "height": 235
    },
    "colab_type": "code",
    "id": "ePZBUCV-8ovL",
    "outputId": "9921efd6-3ee1-4a90-e992-e4436e2a7909"
   },
   "outputs": [],
   "source": [
    "newDf.head()"
   ]
  },
  {
   "cell_type": "code",
   "execution_count": null,
   "metadata": {
    "colab": {},
    "colab_type": "code",
    "id": "ko9kNVsu8ovO"
   },
   "outputs": [],
   "source": [
    "newDf.reset_index(inplace=True)"
   ]
  },
  {
   "cell_type": "code",
   "execution_count": null,
   "metadata": {
    "colab": {
     "base_uri": "https://localhost:8080/",
     "height": 204
    },
    "colab_type": "code",
    "id": "JInK04KJDi5q",
    "outputId": "639d4775-32a1-46ca-9c90-a08bcf0b1f0c"
   },
   "outputs": [],
   "source": [
    "newDf.head()"
   ]
  },
  {
   "cell_type": "code",
   "execution_count": null,
   "metadata": {
    "colab": {
     "base_uri": "https://localhost:8080/",
     "height": 34
    },
    "colab_type": "code",
    "id": "NCLoYYRZ8ovR",
    "outputId": "72886c11-1fc4-422e-98a0-f4287c0b0d5d"
   },
   "outputs": [],
   "source": [
    "newDf.shape"
   ]
  },
  {
   "cell_type": "code",
   "execution_count": null,
   "metadata": {
    "colab": {},
    "colab_type": "code",
    "id": "Gm_8QwRhDi5v"
   },
   "outputs": [],
   "source": [
    "newDf['id_curso'] = newDf['id_curso'].astype('uint32')"
   ]
  },
  {
   "cell_type": "code",
   "execution_count": null,
   "metadata": {
    "colab": {},
    "colab_type": "code",
    "id": "nxkvGoJuDi5y"
   },
   "outputs": [],
   "source": [
    "newDf['id_turma'] = newDf['id_turma'].astype('uint32')"
   ]
  },
  {
   "cell_type": "code",
   "execution_count": null,
   "metadata": {
    "colab": {},
    "colab_type": "code",
    "id": "AHJSKp_7Di50"
   },
   "outputs": [],
   "source": [
    "newDf['semestre_ano'] = newDf['semestre_ano'].astype('uint8')"
   ]
  },
  {
   "cell_type": "code",
   "execution_count": null,
   "metadata": {
    "colab": {},
    "colab_type": "code",
    "id": "l1icYdR3Di51"
   },
   "outputs": [],
   "source": [
    "newDf[['media_final','unidade1','unidade2','unidade3','unidade4']] =newDf[['media_final','unidade1','unidade2','unidade3','unidade4']].astype('float32')"
   ]
  },
  {
   "cell_type": "code",
   "execution_count": null,
   "metadata": {
    "colab": {
     "base_uri": "https://localhost:8080/",
     "height": 272
    },
    "colab_type": "code",
    "id": "Rwx-xKMDDi54",
    "outputId": "c6bc0b3d-cee8-4ad5-8772-07531b161001"
   },
   "outputs": [],
   "source": [
    "newDf.info()"
   ]
  },
  {
   "cell_type": "code",
   "execution_count": null,
   "metadata": {
    "colab": {
     "base_uri": "https://localhost:8080/",
     "height": 34
    },
    "colab_type": "code",
    "id": "VUxpkU0B8ovW",
    "outputId": "f0047991-3860-476d-ff78-19246513a673"
   },
   "outputs": [],
   "source": [
    "newDf[newDf['unidade3']==0].shape , newDf[newDf['unidade2']==0].shape , newDf[newDf['unidade1']==0].shape"
   ]
  },
  {
   "cell_type": "markdown",
   "metadata": {
    "colab_type": "text",
    "id": "W6cDTSU-8ova"
   },
   "source": [
    "# Lendo Df com as informações das turmas"
   ]
  },
  {
   "cell_type": "markdown",
   "metadata": {
    "colab_type": "text",
    "id": "RxayHTR4Uwth"
   },
   "source": [
    "Professor, apartir daqui encontrei problemas, simplismente quando adciono as turmas de 2014 e 2015 o merge entre componente e turmas não funci "
   ]
  },
  {
   "cell_type": "code",
   "execution_count": null,
   "metadata": {
    "colab_type": "raw",
    "id": "jukF3F490XaU"
   },
   "outputs": [],
   "source": [
    "# Lendo local\n",
    "\n",
    "turmas20101 =  pd.read_csv('../arquivos_csv/turmas-2010.1.csv',encoding='utf8' , sep=';',error_bad_lines=False) \n",
    "turmas20102 =  pd.read_csv('../arquivos_csv/turmas-2010.2.csv',encoding='utf8' , sep=';')\n",
    "turmas20111 =  pd.read_csv('../arquivos_csv/turmas-2011.1.csv',encoding='utf8' , sep=';',error_bad_lines=False)\n",
    "turmas20112 =  pd.read_csv('../arquivos_csv/turmas-2011.2.csv',encoding='utf8' , sep=';')\n",
    "turmas20121 = pd.read_csv('../arquivos_csv/turmas-2012.1.csv',encoding='utf8' , sep=';')\n",
    "turmas20122 = pd.read_csv('../arquivos_csv/turmas-2012.2.csv',encoding='utf8' , sep=';')\n",
    "\n",
    "turmas20131 =  pd.read_csv('../arquivos_csv/turmas-2013.1.csv',encoding='utf8' , sep=';')\n",
    "turmas20132 =  pd.read_csv('../arquivos_csv/turmas-2013.1.csv',encoding='utf8' , sep=';')\n",
    "\n",
    "turmas20141 = pd.read_csv('../arquivos_csv/turmas-2014.1.csv',encoding='utf8' , sep=';')\n",
    "turmas20142 = pd.read_csv('../arquivos_csv/turmas-2014.2.csv',encoding='utf8' , sep=';')\n",
    "turmas20151 = pd.read_csv('../arquivos_csv/turmas-2015.1.csv',encoding='utf8' , sep=';' )\n",
    "turmas20152 = pd.read_csv('../arquivos_csv/turmas-2015.2.csv',encoding='utf8' , sep=';')\n",
    "turmas20171 = pd.read_csv('../arquivos_csv/turmas-2017.1.csv',encoding='utf8' , sep=';')\n",
    "turmas20172 = pd.read_csv('../arquivos_csv/turmas-2017.2.csv',encoding='utf8' , sep=';')\n",
    "turmas20161 = pd.read_csv('../arquivos_csv/turmas-2016.1.csv',encoding='utf8' , sep=';')\n",
    "turmas20162 = pd.read_csv('../arquivos_csv/turmas-2016.2.csv',encoding='utf8' , sep=';')\n"
   ]
  },
  {
   "cell_type": "code",
   "execution_count": 4,
   "metadata": {},
   "outputs": [],
   "source": [
    "turmas20161 = pd.read_csv('../arquivos_csv/turmas-2016.1.csv',encoding='utf8' , sep=';')"
   ]
  },
  {
   "cell_type": "code",
   "execution_count": null,
   "metadata": {
    "colab": {},
    "colab_type": "code",
    "id": "io4Pfcix8ovd",
    "scrolled": true
   },
   "outputs": [],
   "source": [
    "# Lendo atráves de link\n",
    "#turmas20101 = pd.read_csv('http://dados.ufrn.br/dataset/1938623d-fb07-41a4-a55a-1691f7c3b8b5/resource/598758c3-0725-48cc-ab8a-d0c25feee0ae/download/turmas-2010.1.csv',encoding='utf8' , sep=';' , error_bad_lines=False)\n",
    "#turmas20102 = pd.read_csv('http://dados.ufrn.br/dataset/1938623d-fb07-41a4-a55a-1691f7c3b8b5/resource/6c604180-ebf4-4cc2-b253-0fe0867ab1db/download/turmas-2010.2.csv',encoding='utf8' , sep=';' )\n",
    "#turmas20111 = pd.read_csv('http://dados.ufrn.br/dataset/1938623d-fb07-41a4-a55a-1691f7c3b8b5/resource/94ba8837-ba77-4ca1-8746-73192c77365a/download/turmas-2011.1.csv',encoding='utf8' , sep=';' ,error_bad_lines=False)\n",
    "#turmas20112 =  pd.read_csv('http://dados.ufrn.br/dataset/1938623d-fb07-41a4-a55a-1691f7c3b8b5/resource/dae1b983-ba03-4a6b-9aa0-eac011336b57/download/turmas-2011.2.csv',encoding='utf8' , sep=';' )\n",
    "#turmas20121 = pd.read_csv('http://dados.ufrn.br/dataset/1938623d-fb07-41a4-a55a-1691f7c3b8b5/resource/03e25f59-ed58-4a46-b68f-a273c89425de/download/turmas-2012.1.csv',encoding='utf8' , sep=';' )\n",
    "#turmas20122 = pd.read_csv('http://dados.ufrn.br/dataset/1938623d-fb07-41a4-a55a-1691f7c3b8b5/resource/e76d93c8-750d-4c36-b314-21ea4c02f250/download/turmas-2012.2.csv',encoding='utf8' , sep=';' )\n",
    "\n",
    "#turmas20131 = pd.read_csv('http://dados.ufrn.br/dataset/1938623d-fb07-41a4-a55a-1691f7c3b8b5/resource/0d96d930-8058-4def-9044-c3ae04c1f40c/download/turmas-2013.1.csv',encoding='utf8' , sep=';' )\n",
    "#turmas20132 = pd.read_csv('http://dados.ufrn.br/dataset/1938623d-fb07-41a4-a55a-1691f7c3b8b5/resource/e7e3cf12-a29b-491a-a895-021a43819197/download/turmas-2013.2.csv',encoding='utf8' , sep=';' )\n",
    "\n",
    "\n",
    "\n",
    "turmas20141 = pd.read_csv('http://dados.ufrn.br/dataset/1938623d-fb07-41a4-a55a-1691f7c3b8b5/resource/e6e4144f-4042-4fdc-84e0-76e9ec27ae7c/download/turmas-2014.1.csv',encoding='utf8' , sep=';' )\n",
    "turmas20142 = pd.read_csv('http://dados.ufrn.br/dataset/1938623d-fb07-41a4-a55a-1691f7c3b8b5/resource/2c69547b-920f-4ec2-92c0-3fbc19512165/download/turmas-2014.2.csv',encoding='utf8' , sep=';')\n",
    "turmas20151 = pd.read_csv('http://dados.ufrn.br/dataset/1938623d-fb07-41a4-a55a-1691f7c3b8b5/resource/4d5aee5a-00b0-4ed6-a4be-59fa77a56797/download/turmas-2015.1.csv',encoding='utf8' , sep=';' )\n",
    "turmas20152 = pd.read_csv('http://dados.ufrn.br/dataset/1938623d-fb07-41a4-a55a-1691f7c3b8b5/resource/7c59621c-4a8b-49d4-b319-83cfea9bdf28/download/turmas-2015.2.csv',encoding='utf8' , sep=';')\n",
    "\n",
    "\n",
    "turmas20171 = pd.read_csv('http://dados.ufrn.br/dataset/1938623d-fb07-41a4-a55a-1691f7c3b8b5/resource/5e77d066-d506-45eb-a21e-76aa79616fef/download/turmas-2017.1.csv',encoding='utf8' , sep=';')\n",
    "turmas20172 = pd.read_csv('http://dados.ufrn.br/dataset/1938623d-fb07-41a4-a55a-1691f7c3b8b5/resource/01fe7343-fdf0-4a67-b915-2386b7c2fecb/download/turmas-2017.2.csv',encoding='utf8' , sep=';')\n",
    "turmas20161 = pd.read_csv('http://dados.ufrn.br/dataset/1938623d-fb07-41a4-a55a-1691f7c3b8b5/resource/322d9977-ba15-47f1-8216-75a1ca78e197/download/turmas-2016.1.csv',encoding='utf8' , sep=';')\n",
    "turmas20162 = pd.read_csv('http://dados.ufrn.br/dataset/1938623d-fb07-41a4-a55a-1691f7c3b8b5/resource/5e8e3228-7f22-40a2-9efd-561c44844567/download/turmas-2016.2.csv',encoding='utf8' , sep=';')\n"
   ]
  },
  {
   "cell_type": "code",
   "execution_count": null,
   "metadata": {
    "colab": {},
    "colab_type": "code",
    "id": "ma4RHC4xIVc1"
   },
   "outputs": [],
   "source": [
    "#turmas = pd.concat([turmas20101 , turmas20102 , turmas20111 , turmas20112 , turmas20121 , turmas20122,turmas20131 , turmas20132 ,turmas20141,turmas20142 ,turmas20151 ,turmas20152, turmas20171,turmas20172,turmas20161,turmas20162])"
   ]
  },
  {
   "cell_type": "code",
   "execution_count": null,
   "metadata": {
    "colab": {},
    "colab_type": "code",
    "id": "8v1iEzog8ovh"
   },
   "outputs": [],
   "source": [
    "turmas = pd.concat([turmas20141,turmas20142 ,turmas20151 ,turmas20152, turmas20171,turmas20172,turmas20161,turmas20162])"
   ]
  },
  {
   "cell_type": "code",
   "execution_count": null,
   "metadata": {
    "colab": {},
    "colab_type": "code",
    "id": "mzoEY96b8ovp"
   },
   "outputs": [],
   "source": [
    "# retirei algumas colunas que não são relevantes\n",
    "turmas.drop(inplace=True,columns=['codigo_turma','id_docente_externo','observacao','local','data_inicio','data_fim',\n",
    "                                 'distancia','agrupadora','situacao_turma','convenio','Unnamed: 25','data_consolidacao',\n",
    "                                 'id_turma_agrupadora'])"
   ]
  },
  {
   "cell_type": "code",
   "execution_count": null,
   "metadata": {
    "colab": {
     "base_uri": "https://localhost:8080/",
     "height": 102
    },
    "colab_type": "code",
    "id": "5B9hsiuLDi6M",
    "outputId": "10f7b2b2-5816-4f95-88d0-f4c99373c244"
   },
   "outputs": [],
   "source": [
    "turmas.columns"
   ]
  },
  {
   "cell_type": "code",
   "execution_count": null,
   "metadata": {
    "colab": {
     "base_uri": "https://localhost:8080/",
     "height": 238
    },
    "colab_type": "code",
    "id": "EZbN_BADDi6O",
    "outputId": "465affff-1b0a-4773-a372-a0b3abd79122"
   },
   "outputs": [],
   "source": [
    "turmas.head()"
   ]
  },
  {
   "cell_type": "code",
   "execution_count": null,
   "metadata": {
    "colab": {
     "base_uri": "https://localhost:8080/",
     "height": 323
    },
    "colab_type": "code",
    "id": "p3lUHop-Di6Q",
    "outputId": "531d424f-6066-48d4-e530-802157939845"
   },
   "outputs": [],
   "source": [
    "turmas.info()"
   ]
  },
  {
   "cell_type": "code",
   "execution_count": null,
   "metadata": {
    "colab": {},
    "colab_type": "code",
    "id": "TpIIYM0EDi6T"
   },
   "outputs": [],
   "source": [
    "turmas['id_componente_curricular'] = turmas['id_componente_curricular'].astype('float32')"
   ]
  },
  {
   "cell_type": "code",
   "execution_count": null,
   "metadata": {
    "colab": {},
    "colab_type": "code",
    "id": "spvfa1MiDi6W"
   },
   "outputs": [],
   "source": [
    "turmas['qtd_aulas_lancadas'] = turmas['qtd_aulas_lancadas'].astype('float32')"
   ]
  },
  {
   "cell_type": "code",
   "execution_count": null,
   "metadata": {
    "colab": {
     "base_uri": "https://localhost:8080/",
     "height": 34
    },
    "colab_type": "code",
    "id": "67cLZWVQ8ovq",
    "outputId": "9c459db4-e093-4495-adaa-9ce8b6f6d9cb",
    "scrolled": true
   },
   "outputs": [],
   "source": [
    "turmas.shape"
   ]
  },
  {
   "cell_type": "code",
   "execution_count": null,
   "metadata": {
    "colab": {
     "base_uri": "https://localhost:8080/",
     "height": 238
    },
    "colab_type": "code",
    "id": "-EK7aSx0Di6b",
    "outputId": "90684a6f-e19f-4f65-fdf3-88bad091ba63"
   },
   "outputs": [],
   "source": [
    "turmas.head()"
   ]
  },
  {
   "cell_type": "markdown",
   "metadata": {
    "colab_type": "text",
    "id": "RxRATdZo8ovy"
   },
   "source": [
    "# Unindo turmas com componente curricular"
   ]
  },
  {
   "cell_type": "code",
   "execution_count": null,
   "metadata": {
    "colab": {
     "base_uri": "https://localhost:8080/",
     "height": 105
    },
    "colab_type": "code",
    "id": "4-Kca1kqELZL",
    "outputId": "b25428da-6f35-428a-865c-8e97cdd1cace"
   },
   "outputs": [],
   "source": [
    "componentespresenciais = pd.read_csv('http://dados.ufrn.br/dataset/3fea67e8-6916-4ed0-aaa6-9a8ca06a9bdc/resource/9a3521d2-4bc5-4fda-93f0-f701c8a20727/download/componentes-curriculares-presenciais.csv' , sep=';' ,encoding='utf8' , error_bad_lines=False)\n",
    "componentessemipresenciais = pd.read_csv('http://dados.ufrn.br/dataset/3fea67e8-6916-4ed0-aaa6-9a8ca06a9bdc/resource/99dd0a7d-4908-4e85-9f20-d58c8195260e/download/componentes-curriculares-semi-presenciais.csv' , sep=';',encoding='utf8')\n",
    "componentesead = pd.read_csv('http://dados.ufrn.br/dataset/3fea67e8-6916-4ed0-aaa6-9a8ca06a9bdc/resource/d1de5b44-0ae6-4a22-8dac-ae44aa1c3248/download/componentes-curriculares-ead.csv' , sep=';' , encoding='utf8')"
   ]
  },
  {
   "cell_type": "code",
   "execution_count": null,
   "metadata": {
    "colab": {},
    "colab_type": "code",
    "id": "KXlt3xMIELZD"
   },
   "outputs": [],
   "source": [
    "componentes = pd.concat([componentespresenciais,componentessemipresenciais,componentesead])\n",
    "componentes.drop(columns=['unidade_responsavel', 'ch_teorico', 'ch_pratico', 'ch_estagio',\n",
    "       'ch_total', 'ch_dedicada_docente', 'ch_ead', 'cr_max_ead',\n",
    "       'permite_horario_flexivel', 'procedimentos_avaliacao',\n",
    "       'equivalencia', 'pre_requisito', 'co_requisito', 'ementa',\n",
    "       'bibliografia', 'objetivos', 'conteudo', 'competencias_habilidades',\n",
    "       'referencias', 'ano_programa', 'periodo_programa', 'modalidade',\n",
    "       'curso_componente', 'Unnamed: 29','nivel' ,'qtd_unidades'] , inplace=True)\n",
    "componentes.dropna(subset=['id_componente','nome'], inplace=True)"
   ]
  },
  {
   "cell_type": "code",
   "execution_count": null,
   "metadata": {
    "colab": {
     "base_uri": "https://localhost:8080/",
     "height": 204
    },
    "colab_type": "code",
    "id": "2UgiuddIDi6k",
    "outputId": "d68a1b88-d28b-4705-c629-b62f6f831c1a"
   },
   "outputs": [],
   "source": [
    "componentes.head()"
   ]
  },
  {
   "cell_type": "code",
   "execution_count": null,
   "metadata": {
    "colab": {},
    "colab_type": "code",
    "id": "g-5Yj8AYELY1"
   },
   "outputs": [],
   "source": [
    "#turmas['id_componente_curricular'] = turmas['id_componente_curricular'].apply(str)\n",
    "turmas['id_componente_curricular'] = [ str(x).replace('.0','') for x in turmas['id_componente_curricular']]"
   ]
  },
  {
   "cell_type": "code",
   "execution_count": null,
   "metadata": {
    "colab": {
     "base_uri": "https://localhost:8080/",
     "height": 34
    },
    "colab_type": "code",
    "id": "v2zsF8uUELYl",
    "outputId": "576187ad-70b5-45d9-a06c-2e248347fda0",
    "scrolled": true
   },
   "outputs": [],
   "source": [
    "turmasComponentes = pd.merge(turmas , componentes , left_on='id_componente_curricular', right_on='id_componente')\n",
    "turmasComponentes.shape"
   ]
  },
  {
   "cell_type": "code",
   "execution_count": null,
   "metadata": {
    "colab": {},
    "colab_type": "code",
    "id": "KD97HSAODi6t"
   },
   "outputs": [],
   "source": [
    "turmasComponentes.dropna(subset=['id_turma', 'id_docente_interno','id_componente_curricular'] , inplace=True)"
   ]
  },
  {
   "cell_type": "code",
   "execution_count": null,
   "metadata": {
    "colab": {},
    "colab_type": "code",
    "id": "f1yKfyHTDi6v"
   },
   "outputs": [],
   "source": [
    "turmasComponentes[['id_turma','id_docente_interno','id_componente_curricular','periodo']] =turmasComponentes[['id_turma','id_docente_interno','id_componente_curricular','periodo']].astype('uint32')"
   ]
  },
  {
   "cell_type": "markdown",
   "metadata": {
    "colab_type": "text",
    "id": "m1Pkd-B-8owK"
   },
   "source": [
    "# Lendo os df  com as informações dos docentes"
   ]
  },
  {
   "cell_type": "code",
   "execution_count": null,
   "metadata": {
    "colab": {
     "base_uri": "https://localhost:8080/",
     "height": 34
    },
    "colab_type": "code",
    "id": "4eOiWY4O8owO",
    "outputId": "18e73292-a371-4637-f01f-6b60661e39cb"
   },
   "outputs": [],
   "source": [
    "docentes = pd.read_csv('http://dados.ufrn.br/dataset/8bf1a468-48ff-4f4d-95ee-b17b7a3a5592/resource/ff0a457e-76fa-4aca-ad99-48aebd7db070/download/docentes.csv',sep=';',encoding='utf8')\n",
    "docentes.shape"
   ]
  },
  {
   "cell_type": "code",
   "execution_count": null,
   "metadata": {
    "colab": {
     "base_uri": "https://localhost:8080/",
     "height": 289
    },
    "colab_type": "code",
    "id": "LC1LL74K8owR",
    "outputId": "f081e024-9edc-4ca2-8a96-35c503ca843c"
   },
   "outputs": [],
   "source": [
    "docentes.head()"
   ]
  },
  {
   "cell_type": "code",
   "execution_count": null,
   "metadata": {
    "colab": {},
    "colab_type": "code",
    "id": "TpA2JsP7Di62"
   },
   "outputs": [],
   "source": [
    "docentes.drop(columns=['admissao','id_unidade_lotacao'],inplace=True)"
   ]
  },
  {
   "cell_type": "code",
   "execution_count": null,
   "metadata": {
    "colab": {},
    "colab_type": "code",
    "id": "_GbO-dHf8owT"
   },
   "outputs": [],
   "source": [
    "docentes.rename(columns = {'nome':'nome_docente'} , inplace=True)"
   ]
  },
  {
   "cell_type": "code",
   "execution_count": null,
   "metadata": {
    "colab": {},
    "colab_type": "code",
    "id": "Bh41i4d6Di65"
   },
   "outputs": [],
   "source": [
    "docentes[['id_servidor','siape']] = docentes[['id_servidor','siape']].astype('uint32') "
   ]
  },
  {
   "cell_type": "code",
   "execution_count": null,
   "metadata": {
    "colab": {
     "base_uri": "https://localhost:8080/",
     "height": 255
    },
    "colab_type": "code",
    "id": "DuNq94y-8owW",
    "outputId": "8389328c-196f-4f12-c42f-1f5e5d74e126"
   },
   "outputs": [],
   "source": [
    "docentes.info()"
   ]
  },
  {
   "cell_type": "code",
   "execution_count": null,
   "metadata": {
    "colab": {
     "base_uri": "https://localhost:8080/",
     "height": 204
    },
    "colab_type": "code",
    "id": "ov9y0ziA8owY",
    "outputId": "838232f2-9970-44b4-e539-473278442d3e"
   },
   "outputs": [],
   "source": [
    "docentes.head()"
   ]
  },
  {
   "cell_type": "markdown",
   "metadata": {
    "colab_type": "text",
    "id": "AfXeFGB_8owb"
   },
   "source": [
    "# Merge entre docentes e turmas"
   ]
  },
  {
   "cell_type": "code",
   "execution_count": null,
   "metadata": {
    "colab": {},
    "colab_type": "code",
    "id": "H9jfbuuM0XbH"
   },
   "outputs": [],
   "source": [
    "#turmasComponentes['id_docente_interno'] = [str(word).replace('.0','0') for word in turmasComponentes['id_docente_interno']]"
   ]
  },
  {
   "cell_type": "code",
   "execution_count": null,
   "metadata": {
    "colab": {
     "base_uri": "https://localhost:8080/",
     "height": 34
    },
    "colab_type": "code",
    "id": "reQfCQ3r8owd",
    "outputId": "eb6483b9-336f-4c4a-b98f-c3c1d11ed6f8"
   },
   "outputs": [],
   "source": [
    "dftd = pd.merge(docentes,turmasComponentes, right_on='id_docente_interno',left_on='id_servidor')\n",
    "dftd.drop(columns=['id_docente_interno'] , inplace=True)\n",
    "dftd.shape"
   ]
  },
  {
   "cell_type": "code",
   "execution_count": null,
   "metadata": {
    "colab": {
     "base_uri": "https://localhost:8080/",
     "height": 564
    },
    "colab_type": "code",
    "id": "AjK8_0Tj8owg",
    "outputId": "99ecdb3e-23e0-49c5-c617-9fe74e4a6f48"
   },
   "outputs": [],
   "source": [
    "dftd.head()"
   ]
  },
  {
   "cell_type": "code",
   "execution_count": null,
   "metadata": {
    "colab": {
     "base_uri": "https://localhost:8080/",
     "height": 527
    },
    "colab_type": "code",
    "id": "g6VkR4M6Di7F",
    "outputId": "c8d69471-9351-4e73-cf60-dad0caebf805"
   },
   "outputs": [],
   "source": [
    "dftd.info()"
   ]
  },
  {
   "cell_type": "code",
   "execution_count": null,
   "metadata": {
    "colab": {},
    "colab_type": "code",
    "id": "p9hDf7DEDi7I"
   },
   "outputs": [],
   "source": [
    "dftd['id_componente'] = dftd['id_componente'].astype('uint32')"
   ]
  },
  {
   "cell_type": "code",
   "execution_count": null,
   "metadata": {
    "colab": {},
    "colab_type": "code",
    "id": "xLkYrEYoDi7K"
   },
   "outputs": [],
   "source": [
    "dftd['capacidade_aluno'] = dftd['capacidade_aluno'].astype('float32')"
   ]
  },
  {
   "cell_type": "code",
   "execution_count": null,
   "metadata": {
    "colab": {},
    "colab_type": "code",
    "id": "uorDM5exDi7L"
   },
   "outputs": [],
   "source": [
    "dftd['total_solicitacoes'] = dftd['total_solicitacoes'].astype('float32')"
   ]
  },
  {
   "cell_type": "markdown",
   "metadata": {
    "colab_type": "text",
    "id": "8eO4FZAa8owi"
   },
   "source": [
    "# Fazendo merge entre o DF com as informações de docentes e turmas e os componentes com notas"
   ]
  },
  {
   "cell_type": "code",
   "execution_count": null,
   "metadata": {
    "colab": {
     "base_uri": "https://localhost:8080/",
     "height": 34
    },
    "colab_type": "code",
    "id": "wksxPv-A8owi",
    "outputId": "8882982c-4ba8-4ddf-d0bd-53ed49318283"
   },
   "outputs": [],
   "source": [
    "dfcomp = pd.merge(newDf , dftd ,on='id_turma')\n",
    "dfcomp.shape"
   ]
  },
  {
   "cell_type": "code",
   "execution_count": null,
   "metadata": {
    "colab": {
     "base_uri": "https://localhost:8080/",
     "height": 649
    },
    "colab_type": "code",
    "id": "vdU4jlYK8owm",
    "outputId": "30fadf74-6e61-4897-c6ff-3a721fb62340"
   },
   "outputs": [],
   "source": [
    "dfcomp.head()"
   ]
  },
  {
   "cell_type": "code",
   "execution_count": null,
   "metadata": {
    "colab": {
     "base_uri": "https://localhost:8080/",
     "height": 1751
    },
    "colab_type": "code",
    "id": "lOCB_Qtc8owo",
    "outputId": "9c706372-d9a7-49d1-a93a-b96a36161ea8",
    "scrolled": true
   },
   "outputs": [],
   "source": [
    "dfcomp['nome_docente'].value_counts()"
   ]
  },
  {
   "cell_type": "code",
   "execution_count": null,
   "metadata": {
    "colab": {
     "base_uri": "https://localhost:8080/",
     "height": 680
    },
    "colab_type": "code",
    "id": "XJqjLUMrDi7V",
    "outputId": "3be77e58-f14e-42d0-9825-19f587ecb31e",
    "scrolled": true
   },
   "outputs": [],
   "source": [
    "dfcomp.info()"
   ]
  },
  {
   "cell_type": "code",
   "execution_count": null,
   "metadata": {
    "colab": {},
    "colab_type": "code",
    "id": "QCL-4AycDi7X"
   },
   "outputs": [],
   "source": [
    "#lembrar DE OLHAR SE O ID DO CURSO JA FOR uint32\n",
    "dfcomp['id_curso'] = dfcomp['id_curso'].astype('uint32') "
   ]
  },
  {
   "cell_type": "markdown",
   "metadata": {
    "colab_type": "text",
    "id": "BXBBMdSQ8owx"
   },
   "source": [
    "# Lendo e tratando as informações dos cursos"
   ]
  },
  {
   "cell_type": "code",
   "execution_count": null,
   "metadata": {
    "colab": {},
    "colab_type": "code",
    "id": "5HH6YDwZ8owy"
   },
   "outputs": [],
   "source": [
    "cursosTotal = pd.read_csv('http://dados.ufrn.br/dataset/08b0dc59-faa9-4281-bd1e-2a39f532489e/resource/949be3d1-e85b-4d0f-9f60-1d9a7484bb06/download/cursos-ufrn.csv' , sep=';' , encoding = 'utf-8')\n",
    "cursosGraduacao = pd.read_csv('http://dados.ufrn.br/dataset/02526b96-cf40-4507-90b0-3afe5ddd53e7/resource/a10bc434-9a2d-491a-ae8c-41cf643c35bc/download/cursos-de-graduacao.csv',sep=';',encoding='utf-8')\n",
    "cursosGraduacao.drop(inplace=True,columns=['Unnamed: 22'])\n",
    "cursosPosGraduaco = pd.read_csv('http://dados.ufrn.br/dataset/3f24ceda-4694-48f8-8f17-2ca440a68757/resource/689177b3-6a5d-4587-b1fc-29f1fae76cd4/download/cursos-de-pos-graduacao.csv',encoding='utf8',sep=';')\n",
    "cursosPosGraduaco.drop(inplace=True, columns=['Unnamed: 17'])\n",
    "cursosPosGraduaco['turno'] = 'DESCONHECIDO'"
   ]
  },
  {
   "cell_type": "code",
   "execution_count": null,
   "metadata": {
    "colab": {},
    "colab_type": "code",
    "id": "tine763F8ow0"
   },
   "outputs": [],
   "source": [
    "cursos = pd.DataFrame()\n",
    "cursos = pd.concat([cursosTotal,cursosGraduacao,cursosPosGraduaco])"
   ]
  },
  {
   "cell_type": "code",
   "execution_count": null,
   "metadata": {
    "colab": {
     "base_uri": "https://localhost:8080/",
     "height": 445
    },
    "colab_type": "code",
    "id": "aoojmATo8ow2",
    "outputId": "a163a0a7-5771-4d74-e018-834713ebdb77"
   },
   "outputs": [],
   "source": [
    "cursos.head()"
   ]
  },
  {
   "cell_type": "code",
   "execution_count": null,
   "metadata": {
    "colab": {},
    "colab_type": "code",
    "id": "6JJ2Dwrm8ow4"
   },
   "outputs": [],
   "source": [
    "cursos.drop(inplace=True , columns = [\n",
    "       'conceito', 'convenio_academico', \n",
    "        'dou', 'grau_academico', 'id_coordenador',\n",
    "        'modalidade_educacao',\n",
    "       'municipio', 'nivel_ensino','portaria',\n",
    "       'portaria_reconhecimento', 'programa', \n",
    "       'tipo_ciclo_formacao',\n",
    "       'website'])"
   ]
  },
  {
   "cell_type": "code",
   "execution_count": null,
   "metadata": {
    "colab": {
     "base_uri": "https://localhost:8080/",
     "height": 34
    },
    "colab_type": "code",
    "id": "vm5oDr798ow6",
    "outputId": "c0e1ea53-a346-4234-c3d2-bfa33cc4bd31"
   },
   "outputs": [],
   "source": [
    "cursos.rename(columns={'nome':'nome_curso'},inplace=True)\n",
    "cursos.shape"
   ]
  },
  {
   "cell_type": "code",
   "execution_count": null,
   "metadata": {
    "colab": {},
    "colab_type": "code",
    "id": "J1kYQz-28ow7"
   },
   "outputs": [],
   "source": [
    "cursos.dropna(subset=['id_curso'],inplace=True)"
   ]
  },
  {
   "cell_type": "code",
   "execution_count": null,
   "metadata": {
    "colab": {
     "base_uri": "https://localhost:8080/",
     "height": 340
    },
    "colab_type": "code",
    "id": "ieGhC9Oc8ow_",
    "outputId": "7cf0f8bb-0c71-4cb9-d790-b6b482759243",
    "scrolled": true
   },
   "outputs": [],
   "source": [
    "cursos.head()"
   ]
  },
  {
   "cell_type": "code",
   "execution_count": null,
   "metadata": {
    "colab": {
     "base_uri": "https://localhost:8080/",
     "height": 34
    },
    "colab_type": "code",
    "id": "SUHztep5Di7h",
    "outputId": "568618d0-30d8-40ff-96f1-4ebbd2826d38"
   },
   "outputs": [],
   "source": [
    "cursos.shape"
   ]
  },
  {
   "cell_type": "code",
   "execution_count": null,
   "metadata": {
    "colab": {},
    "colab_type": "code",
    "id": "OuRDUit2Di7j"
   },
   "outputs": [],
   "source": [
    "cursos['codigo_inep'].fillna(0 , inplace=True)"
   ]
  },
  {
   "cell_type": "code",
   "execution_count": null,
   "metadata": {
    "colab": {},
    "colab_type": "code",
    "id": "9RzK8i9tDi7k"
   },
   "outputs": [],
   "source": [
    "cursos[['codigo_inep','id_curso','id_unidade_responsavel']] = cursos[['codigo_inep','id_curso','id_unidade_responsavel']].astype('uint32')"
   ]
  },
  {
   "cell_type": "code",
   "execution_count": null,
   "metadata": {
    "colab": {
     "base_uri": "https://localhost:8080/",
     "height": 306
    },
    "colab_type": "code",
    "id": "78SBiKU68oxB",
    "outputId": "0ffa2a06-1bd7-41aa-f0cd-414812f166f1"
   },
   "outputs": [],
   "source": [
    "cursos.info()"
   ]
  },
  {
   "cell_type": "markdown",
   "metadata": {
    "colab_type": "text",
    "id": "SbmuNdTi8oxD"
   },
   "source": [
    "# Unindo o Df anteritor com o df do curso"
   ]
  },
  {
   "cell_type": "code",
   "execution_count": null,
   "metadata": {
    "colab": {},
    "colab_type": "code",
    "id": "Ij56MNPl8oxD"
   },
   "outputs": [],
   "source": [
    "dffinal = pd.merge(dfcomp , cursos , on='id_curso')"
   ]
  },
  {
   "cell_type": "code",
   "execution_count": null,
   "metadata": {
    "colab": {
     "base_uri": "https://localhost:8080/",
     "height": 34
    },
    "colab_type": "code",
    "id": "WhKc4IWJ8oxG",
    "outputId": "2138ffbc-4d63-4f80-dd4e-ade7d9bd66f2"
   },
   "outputs": [],
   "source": [
    "dffinal.rename(columns = {'descricao':'resultado','nome':'nome_componente'},inplace=True)\n",
    "dffinal.shape"
   ]
  },
  {
   "cell_type": "code",
   "execution_count": null,
   "metadata": {
    "colab": {
     "base_uri": "https://localhost:8080/",
     "height": 238
    },
    "colab_type": "code",
    "id": "vBsFBw-h8oxJ",
    "outputId": "80e16560-90d7-4860-8e49-f6230e87d818"
   },
   "outputs": [],
   "source": [
    "dffinal.columns"
   ]
  },
  {
   "cell_type": "code",
   "execution_count": null,
   "metadata": {
    "colab": {
     "base_uri": "https://localhost:8080/",
     "height": 649
    },
    "colab_type": "code",
    "id": "rEta17I88oxM",
    "outputId": "6cbb1daf-92e6-43e2-b75a-dc1928f9dcb7"
   },
   "outputs": [],
   "source": [
    "dffinal.head()"
   ]
  },
  {
   "cell_type": "code",
   "execution_count": null,
   "metadata": {
    "colab": {
     "base_uri": "https://localhost:8080/",
     "height": 34
    },
    "colab_type": "code",
    "id": "mXd6AvaQ8oxO",
    "outputId": "5dfe4572-34ab-4061-873f-7e28c1b0bacc"
   },
   "outputs": [],
   "source": [
    "dffinal.shape"
   ]
  },
  {
   "cell_type": "markdown",
   "metadata": {
    "colab_type": "text",
    "id": "gkXI6Hb1F6Ih"
   },
   "source": [
    "# Problema, os dados estão ficando grande demais. Vamos otimizar.\n",
    "Otimizei os dados dessa parte, e salvei, passei para outro jupyter. \n",
    "Estava dando um erro, chamado \"runtime is died\" que acontece quando a memória está lotada."
   ]
  },
  {
   "cell_type": "code",
   "execution_count": null,
   "metadata": {
    "colab": {
     "base_uri": "https://localhost:8080/",
     "height": 867
    },
    "colab_type": "code",
    "id": "3GH4lsG_0XdV",
    "outputId": "483b4932-4514-4093-82ca-a0da241c617c",
    "scrolled": false
   },
   "outputs": [],
   "source": [
    "dffinal.info()"
   ]
  },
  {
   "cell_type": "code",
   "execution_count": null,
   "metadata": {
    "colab": {
     "base_uri": "https://localhost:8080/",
     "height": 799
    },
    "colab_type": "code",
    "id": "1wmUjubv0Xde",
    "outputId": "2aa7ab23-a14f-4f2d-e347-192f76f0b227",
    "scrolled": true
   },
   "outputs": [],
   "source": [
    "dffinal.isnull().any()"
   ]
  },
  {
   "cell_type": "markdown",
   "metadata": {
    "colab_type": "text",
    "id": "A4p1WyQgDi72"
   },
   "source": [
    "Dá para observar que algumas colunas, existem poucos valores UNIQUE"
   ]
  },
  {
   "cell_type": "code",
   "execution_count": null,
   "metadata": {
    "colab": {
     "base_uri": "https://localhost:8080/",
     "height": 244
    },
    "colab_type": "code",
    "id": "wgv7p_XTDi74",
    "outputId": "b2cad7c3-e662-415c-bc23-f17db0f1e775",
    "scrolled": false
   },
   "outputs": [],
   "source": [
    "dffinal.select_dtypes(include=['object']).describe()"
   ]
  },
  {
   "cell_type": "markdown",
   "metadata": {
    "colab_type": "text",
    "id": "T6cIgj3-Di75"
   },
   "source": [
    "Vamos observar se vale a pena, categorizar nossos tipos 'object'."
   ]
  },
  {
   "cell_type": "code",
   "execution_count": null,
   "metadata": {
    "colab": {
     "base_uri": "https://localhost:8080/",
     "height": 51
    },
    "colab_type": "code",
    "id": "RUthg40sDi77",
    "outputId": "1123b4b9-4a8b-462c-868b-e98116719be9"
   },
   "outputs": [],
   "source": [
    "print(memoryUsage(dffinal.select_dtypes(include=['object'])))\n",
    "print(memoryUsage(dffinal))"
   ]
  },
  {
   "cell_type": "markdown",
   "metadata": {
    "colab_type": "text",
    "id": "2Nl_asZwDi79"
   },
   "source": [
    "Como observado, vale muito a pena, já que as colunas do tipo 'object' são as que ocupam mais espaço, então vamos lá. "
   ]
  },
  {
   "cell_type": "code",
   "execution_count": null,
   "metadata": {
    "colab": {},
    "colab_type": "code",
    "id": "M1F0JAyDDi79"
   },
   "outputs": [],
   "source": [
    "memoriaNaoOtimizada = memoryUsage(dffinal)"
   ]
  },
  {
   "cell_type": "code",
   "execution_count": null,
   "metadata": {
    "colab": {},
    "colab_type": "code",
    "id": "6xV2g3FWDi7_"
   },
   "outputs": [],
   "source": [
    "dfObjects = convertToCategory(dffinal)"
   ]
  },
  {
   "cell_type": "code",
   "execution_count": null,
   "metadata": {
    "colab": {
     "base_uri": "https://localhost:8080/",
     "height": 649
    },
    "colab_type": "code",
    "id": "Gs8s_yaXDi8A",
    "outputId": "31060a36-12ce-41df-9996-0467912a5dd3"
   },
   "outputs": [],
   "source": [
    "dfObjects.head()"
   ]
  },
  {
   "cell_type": "code",
   "execution_count": null,
   "metadata": {
    "colab": {
     "base_uri": "https://localhost:8080/",
     "height": 153
    },
    "colab_type": "code",
    "id": "cA152_g9Di8D",
    "outputId": "e93db19e-8a06-4d70-dabe-67043e57b7c4"
   },
   "outputs": [],
   "source": [
    "dfObjects.columns"
   ]
  },
  {
   "cell_type": "code",
   "execution_count": null,
   "metadata": {
    "colab": {},
    "colab_type": "code",
    "id": "yTr7UInDDi8F"
   },
   "outputs": [],
   "source": [
    "dffinal.drop(columns=['discente', 'resultado', 'nome_docente', 'formacao',\n",
    "       'tipo_jornada_trabalho', 'vinculo', 'categoria', 'classe_funcional',\n",
    "       'lotacao', 'nivel_ensino', 'campus_turma', 'ano', 'descricao_horario',\n",
    "       'tipo', 'modalidade_participantes', 'tipo_componente', 'codigo',\n",
    "       'nome_componente', 'area_conhecimento', 'campus', 'coordenador',\n",
    "       'data_funcionamento', 'nome_curso', 'situacao_curso', 'tipo_oferta',\n",
    "       'turno', 'unidade_responsavel'] , inplace=True)"
   ]
  },
  {
   "cell_type": "code",
   "execution_count": null,
   "metadata": {
    "colab": {},
    "colab_type": "code",
    "id": "u5BNCEISDi8H"
   },
   "outputs": [],
   "source": [
    "dffinal = pd.merge(dfObjects , dffinal , left_index=True , right_index=True )"
   ]
  },
  {
   "cell_type": "code",
   "execution_count": null,
   "metadata": {
    "colab": {
     "base_uri": "https://localhost:8080/",
     "height": 649
    },
    "colab_type": "code",
    "id": "PnwO-KmNDi8I",
    "outputId": "829d0b54-4ae3-42bb-86cd-5bcde81d3d58"
   },
   "outputs": [],
   "source": [
    "dffinal.head()"
   ]
  },
  {
   "cell_type": "markdown",
   "metadata": {
    "colab_type": "text",
    "id": "3GgTSZpjDi8K"
   },
   "source": [
    "Observando o peso da otimização."
   ]
  },
  {
   "cell_type": "code",
   "execution_count": null,
   "metadata": {
    "colab": {
     "base_uri": "https://localhost:8080/",
     "height": 51
    },
    "colab_type": "code",
    "id": "bdzf4yLlDi8L",
    "outputId": "9e6b9517-ed50-426c-b7fb-479a02180683"
   },
   "outputs": [],
   "source": [
    "print('Memória usada, quando não havia otimização: '+memoriaNaoOtimizada)\n",
    "print('Após otimização: '+memoryUsage(dffinal))"
   ]
  },
  {
   "cell_type": "markdown",
   "metadata": {
    "colab_type": "text",
    "id": "iPFOEJPhDi8O"
   },
   "source": [
    "# Depois de otimizado, podemos agrupar o Df com a grade."
   ]
  },
  {
   "cell_type": "code",
   "execution_count": null,
   "metadata": {
    "colab": {},
    "colab_type": "code",
    "id": "jWI8gNkMDi8O"
   },
   "outputs": [],
   "source": [
    "gradegraducao = pd.read_csv('http://dados.ufrn.br/dataset/82aca3f1-f7ee-425e-bf1e-b6a1d6811bf4/resource/3f25d054-c5d2-4bf2-8cd4-8e0a2e4f63ce/download/curriculo-componente-graduacao.csv',encoding='utf8',sep=';')\n",
    "gradepos = pd.read_csv('http://dados.ufrn.br/dataset/82aca3f1-f7ee-425e-bf1e-b6a1d6811bf4/resource/d0f80c2d-c851-4d56-8a7f-ebe06263ec3e/download/curriculo-componente-pos-graduacao.csv',encoding='utf8',sep=';')"
   ]
  },
  {
   "cell_type": "code",
   "execution_count": null,
   "metadata": {
    "colab": {},
    "colab_type": "code",
    "id": "0mYUVzx8Di8P"
   },
   "outputs": [],
   "source": [
    "grade = pd.concat([gradegraducao,gradepos])\n",
    "grade.drop(columns=['nivel_ensino'],inplace=True)"
   ]
  },
  {
   "cell_type": "code",
   "execution_count": null,
   "metadata": {
    "colab": {},
    "colab_type": "code",
    "id": "7WGq6XQGDi8Q"
   },
   "outputs": [],
   "source": [
    "grade['id_curriculo_componente'] = grade['id_curriculo_componente'].astype('uint32')\n",
    "grade['id_curriculo'] = grade['id_curriculo'].astype('uint32')\n",
    "grade['id_componente_curricular'] = grade['id_componente_curricular'].astype('uint32')\n",
    "grade['semestre_oferta'] = grade['semestre_oferta'].astype('uint8')"
   ]
  },
  {
   "cell_type": "code",
   "execution_count": null,
   "metadata": {
    "colab": {},
    "colab_type": "code",
    "id": "IPXYBa-lDi8R"
   },
   "outputs": [],
   "source": [
    "objctGrade = convertToCategory(grade)\n",
    "grade.drop(columns=['tipo_vinculo_componente'] , inplace=True)\n",
    "grade = pd.merge(grade,objctGrade , left_index=True , right_index=True)"
   ]
  },
  {
   "cell_type": "code",
   "execution_count": null,
   "metadata": {
    "colab": {
     "base_uri": "https://localhost:8080/",
     "height": 204
    },
    "colab_type": "code",
    "id": "YED0efH3Di8R",
    "outputId": "b20c7f78-4605-4cfc-bf4f-d685f8331921"
   },
   "outputs": [],
   "source": [
    "grade.head()"
   ]
  },
  {
   "cell_type": "code",
   "execution_count": null,
   "metadata": {
    "colab": {
     "base_uri": "https://localhost:8080/",
     "height": 187
    },
    "colab_type": "code",
    "id": "D0MdJ8QcDi8T",
    "outputId": "f16e72b7-8e7f-4088-84b4-69fb4dbc89a4"
   },
   "outputs": [],
   "source": [
    "grade.info()"
   ]
  },
  {
   "cell_type": "code",
   "execution_count": null,
   "metadata": {
    "colab": {},
    "colab_type": "code",
    "id": "nydqcauqDi8U"
   },
   "outputs": [],
   "source": [
    "dffinal = pd.merge(dffinal,grade,on='id_componente_curricular')"
   ]
  },
  {
   "cell_type": "code",
   "execution_count": null,
   "metadata": {
    "colab": {
     "base_uri": "https://localhost:8080/",
     "height": 34
    },
    "colab_type": "code",
    "id": "brSLH8VR3JWt",
    "outputId": "285cf9df-873a-47a6-ddd2-580d314ee2c6"
   },
   "outputs": [],
   "source": [
    "print(memoryUsage(dffinal))"
   ]
  },
  {
   "cell_type": "code",
   "execution_count": null,
   "metadata": {
    "colab": {
     "base_uri": "https://localhost:8080/",
     "height": 935
    },
    "colab_type": "code",
    "id": "Tvr9ZPomDi8X",
    "outputId": "bae969a5-d5c3-45e9-d177-66dcfbe1828f"
   },
   "outputs": [],
   "source": [
    "dffinal.info()"
   ]
  },
  {
   "cell_type": "code",
   "execution_count": null,
   "metadata": {
    "colab": {
     "base_uri": "https://localhost:8080/",
     "height": 34
    },
    "colab_type": "code",
    "id": "YC8PbRCBDi8Y",
    "outputId": "b6e59d29-274f-449d-a852-5e6b1ece32ed"
   },
   "outputs": [],
   "source": [
    "dffinal.shape"
   ]
  },
  {
   "cell_type": "code",
   "execution_count": null,
   "metadata": {
    "colab": {
     "base_uri": "https://localhost:8080/",
     "height": 255
    },
    "colab_type": "code",
    "id": "f_MTedKSDi8a",
    "outputId": "4c305bd9-29d4-4666-c728-19e1a04f97c7"
   },
   "outputs": [],
   "source": [
    "dffinal['semestre_oferta'].value_counts()"
   ]
  },
  {
   "cell_type": "markdown",
   "metadata": {
    "colab_type": "text",
    "id": "KM1h4tXi8oxb"
   },
   "source": [
    "# Visualização de dados antes do tratamento final\n",
    "Ainda existem alguns problemas no dataFrame, por exemplo, grande parte dos alunos não contem notas de uma das três unidade "
   ]
  },
  {
   "cell_type": "code",
   "execution_count": null,
   "metadata": {
    "colab": {
     "base_uri": "https://localhost:8080/",
     "height": 867
    },
    "colab_type": "code",
    "id": "2xIi_U_08oxb",
    "outputId": "5567b9fa-abec-46b3-f5b9-8a63c0d70305",
    "scrolled": true
   },
   "outputs": [],
   "source": [
    "#valores nulos\n",
    "dffinal.isnull().any()"
   ]
  },
  {
   "cell_type": "code",
   "execution_count": null,
   "metadata": {
    "colab": {},
    "colab_type": "code",
    "id": "XDdgbDAuDi8e"
   },
   "outputs": [],
   "source": []
  },
  {
   "cell_type": "code",
   "execution_count": null,
   "metadata": {
    "colab": {
     "base_uri": "https://localhost:8080/",
     "height": 596
    },
    "colab_type": "code",
    "id": "El2Zqi3q8oxe",
    "outputId": "94f50fe7-79d4-4a74-dc9c-9c16df37d856",
    "scrolled": false
   },
   "outputs": [],
   "source": [
    "dffinal.corr()"
   ]
  },
  {
   "cell_type": "markdown",
   "metadata": {
    "colab_type": "text",
    "id": "mAN26ccQ8oxf"
   },
   "source": [
    "Existem mais alunos com aprovação do que com qualquer outro resultado."
   ]
  },
  {
   "cell_type": "code",
   "execution_count": null,
   "metadata": {
    "colab": {},
    "colab_type": "code",
    "id": "bTofQjuc8oxg"
   },
   "outputs": [],
   "source": [
    "def generetPie(serie):\n",
    "    \n",
    "    texto, fatias = plt.pie(serie.value_counts(), startangle=90  )\n",
    "    plt.legend(texto,serie.value_counts().index,bbox_to_anchor = (1.25, 1))"
   ]
  },
  {
   "cell_type": "code",
   "execution_count": null,
   "metadata": {
    "colab": {},
    "colab_type": "code",
    "id": "zyN9wRcC8oxh"
   },
   "outputs": [],
   "source": [
    "#Função para gerar cores aletórias\n",
    "def generetColor(num):\n",
    "    listaHSV = [(x*1.0/num, 0.5, 0.5) for x in range(num)]\n",
    "    return list(map(lambda x: colorsys.hsv_to_rgb(*x), listaHSV))"
   ]
  },
  {
   "cell_type": "code",
   "execution_count": null,
   "metadata": {
    "colab": {
     "base_uri": "https://localhost:8080/",
     "height": 279
    },
    "colab_type": "code",
    "id": "Mur93XlN8oxh",
    "outputId": "7a285692-0c39-4cdf-8db8-834b07c13adc"
   },
   "outputs": [],
   "source": [
    "generetPie(dffinal.resultado )"
   ]
  },
  {
   "cell_type": "markdown",
   "metadata": {
    "colab_type": "text",
    "id": "Dxk_eyIC8oxi"
   },
   "source": [
    "É notório que existem unidades faltantes, principalmente na terceira unidade"
   ]
  },
  {
   "cell_type": "code",
   "execution_count": null,
   "metadata": {
    "colab": {
     "base_uri": "https://localhost:8080/",
     "height": 1254
    },
    "colab_type": "code",
    "id": "bgDR6oOl8oxj",
    "outputId": "82e24c9a-66e0-429c-e404-839532cfdb07"
   },
   "outputs": [],
   "source": [
    "# É possível notar que existem inumeros zeros nas unidades\n",
    "# É necessário um tratamento\n",
    "plt.bar( ['unidade 1 ','unidade 2','unidade 3' , 'Todas as 3'],[dffinal[dffinal['unidade1']==0]['unidade1'].count() , dffinal[dffinal['unidade2']==0]['unidade2'].count(), dffinal[dffinal['unidade3']==0]['unidade3'].count(),dffinal[(dffinal['unidade1']==0)&(dffinal['unidade2']==0)&(dffinal['unidade3']==0)]['unidade3'].count()] ,  align='center', color=generetColor(4))\n",
    "plt.title('Quantidade de zeros no data frame por unidade')\n",
    "plt.show()"
   ]
  },
  {
   "cell_type": "code",
   "execution_count": null,
   "metadata": {
    "colab": {},
    "colab_type": "code",
    "id": "WD690l3WDi8m"
   },
   "outputs": [],
   "source": []
  },
  {
   "cell_type": "code",
   "execution_count": null,
   "metadata": {
    "colab": {},
    "colab_type": "code",
    "id": "KHTNof5m8oxk"
   },
   "outputs": [],
   "source": [
    "# Total de notas preenchidas por unidade\n",
    "plt.bar( ['unidade 1 ','unidade 2','unidade 3' , 'Todas as 3'],[dffinal[dffinal['unidade1']!=0]['unidade1'].count() , dffinal[dffinal['unidade2']!=0]['unidade2'].count(), dffinal[dffinal['unidade3']!=0]['unidade3'].count(),dffinal[(dffinal['unidade1']!=0)&(dffinal['unidade2']!=0)&(dffinal['unidade3']!=0)]['unidade3'].count()] ,  align='center', color=generetColor(4))\n",
    "plt.title('Quantidade de notas diferente de zeros no data frame por unidade')\n",
    "plt.show()"
   ]
  },
  {
   "cell_type": "markdown",
   "metadata": {
    "colab_type": "text",
    "id": "oQ-WLS8b8oxm"
   },
   "source": [
    "# Visão interessante sobre as notas abaixo de 3 na primeira unidade\n",
    "Maioria de notas abaixo ou igual a 3  na primeira unidade são matérias de exatas, e grande maioria dos alunos que tiraram abaixo de 3 na primeira unidade não conseguiram recuperar e ser aprovados."
   ]
  },
  {
   "cell_type": "markdown",
   "metadata": {
    "colab_type": "text",
    "id": "9FlxvGVN8oxn"
   },
   "source": [
    "Vamos observar as ocorrencias de zero nas unidades"
   ]
  },
  {
   "cell_type": "code",
   "execution_count": null,
   "metadata": {
    "colab": {},
    "colab_type": "code",
    "id": "nGk9Q8eQ8oxn"
   },
   "outputs": [],
   "source": [
    "uni1 = dffinal[dffinal['unidade1']<=3]['nome_componente'].value_counts()\n",
    "uni1.shape"
   ]
  },
  {
   "cell_type": "code",
   "execution_count": null,
   "metadata": {
    "colab": {},
    "colab_type": "code",
    "id": "0-hwv1r68oxo",
    "scrolled": true
   },
   "outputs": [],
   "source": [
    "uni1"
   ]
  },
  {
   "cell_type": "code",
   "execution_count": null,
   "metadata": {
    "colab": {},
    "colab_type": "code",
    "id": "T6rbT_li8oxq"
   },
   "outputs": [],
   "source": [
    "generetPie(dffinal[dffinal['unidade1']<=3]['resultado'])"
   ]
  },
  {
   "cell_type": "code",
   "execution_count": null,
   "metadata": {
    "colab": {},
    "colab_type": "code",
    "id": "OB8JlQ-o8oxs"
   },
   "outputs": [],
   "source": [
    "#texto, fatias = plt.pie(zerosUni1, startangle=90  )\n",
    "#plt.legend(texto,zerosUni1.index,bbox_to_anchor = (1.25, 1))"
   ]
  },
  {
   "cell_type": "markdown",
   "metadata": {
    "colab_type": "text",
    "id": "ncpAzBJF8oxu"
   },
   "source": [
    "Porém isso não continua nas outras duas unidades, vejamos:"
   ]
  },
  {
   "cell_type": "code",
   "execution_count": null,
   "metadata": {
    "colab": {},
    "colab_type": "code",
    "id": "U7jUae8X8oxu",
    "scrolled": true
   },
   "outputs": [],
   "source": [
    "uni2 = dffinal[dffinal['unidade2']<=3]['nome_componente'].value_counts()\n",
    "uni2 = uni2[uni2>10]\n",
    "uni2.shape"
   ]
  },
  {
   "cell_type": "code",
   "execution_count": null,
   "metadata": {
    "colab": {},
    "colab_type": "code",
    "id": "IllJiFN58oxw"
   },
   "outputs": [],
   "source": [
    "dffinal[dffinal['unidade2']<=3]['resultado'].value_counts()"
   ]
  },
  {
   "cell_type": "code",
   "execution_count": null,
   "metadata": {
    "colab": {},
    "colab_type": "code",
    "id": "auwx_3H78oxy"
   },
   "outputs": [],
   "source": [
    "generetPie(dffinal[dffinal['unidade2']<=3]['resultado'])"
   ]
  },
  {
   "cell_type": "code",
   "execution_count": null,
   "metadata": {
    "colab": {},
    "colab_type": "code",
    "id": "C5ce9Aio8ox0"
   },
   "outputs": [],
   "source": [
    "#texto, fatias = plt.pie(zerosUni2, startangle=90  )\n",
    "#plt.legend(texto,zerosUni2.index,bbox_to_anchor = (1.25, 1))"
   ]
  },
  {
   "cell_type": "markdown",
   "metadata": {
    "colab_type": "text",
    "id": "82ONAl678ox3"
   },
   "source": [
    "# Terceira unidade\n",
    "É possível notar que mesmo o número de zeros na terceira unidade, ainda assim não causa exatamente a reprovação do aluno"
   ]
  },
  {
   "cell_type": "code",
   "execution_count": null,
   "metadata": {
    "colab": {},
    "colab_type": "code",
    "id": "OOKyeR8y8ox3"
   },
   "outputs": [],
   "source": [
    "uni3 = dffinal[dffinal['unidade3']==0]['nome_componente'].value_counts()\n",
    "uni3 = uni3[uni3>10]\n",
    "uni3.shape"
   ]
  },
  {
   "cell_type": "code",
   "execution_count": null,
   "metadata": {
    "colab": {},
    "colab_type": "code",
    "id": "d8yuXeUI8ox6",
    "scrolled": true
   },
   "outputs": [],
   "source": [
    "uni3"
   ]
  },
  {
   "cell_type": "code",
   "execution_count": null,
   "metadata": {
    "colab": {},
    "colab_type": "code",
    "id": "AIEBibsV8ox9"
   },
   "outputs": [],
   "source": [
    "#texto, fatias = plt.pie(zerosUni3, startangle=90  )\n",
    "#plt.legend(texto,zerosUni3.index,bbox_to_anchor = (1.25, 1))"
   ]
  },
  {
   "cell_type": "code",
   "execution_count": null,
   "metadata": {
    "colab": {},
    "colab_type": "code",
    "id": "90tQzHnq8ox_"
   },
   "outputs": [],
   "source": [
    "generetPie(dffinal[dffinal['unidade3']<=3]['resultado'])"
   ]
  },
  {
   "cell_type": "markdown",
   "metadata": {
    "colab_type": "text",
    "id": "HRxBN4zN8oyA"
   },
   "source": [
    "# Vamos dar uma observada em quais cursos tem maior incidência de notas baixas"
   ]
  },
  {
   "cell_type": "markdown",
   "metadata": {
    "colab_type": "text",
    "id": "N49YS2b-8oyA"
   },
   "source": [
    "A primeira unidade, como já era de se esperar, vem populada na sua maioria com cursos de exatas."
   ]
  },
  {
   "cell_type": "code",
   "execution_count": null,
   "metadata": {
    "colab": {},
    "colab_type": "code",
    "id": "KCkse4gI8oyC",
    "scrolled": true
   },
   "outputs": [],
   "source": [
    "dffinal[dffinal['unidade1']<=3]['nome_curso'].value_counts()"
   ]
  },
  {
   "cell_type": "markdown",
   "metadata": {
    "colab_type": "text",
    "id": "DGJImv8V8oyE"
   },
   "source": [
    "A segunda unidade, ainda contempla algumas matérias de exatas, porém não predomina"
   ]
  },
  {
   "cell_type": "code",
   "execution_count": null,
   "metadata": {
    "colab": {},
    "colab_type": "code",
    "id": "cwx8dCi68oyE",
    "scrolled": true
   },
   "outputs": [],
   "source": [
    "dffinal[dffinal['unidade2']<=3]['nome_curso'].value_counts()"
   ]
  },
  {
   "cell_type": "markdown",
   "metadata": {
    "colab_type": "text",
    "id": "8TaRsy7W8oyG"
   },
   "source": [
    "Quase metade dos alunos de medicina não contem a nota da 3 unidade, porém, não é um dos cursos que tem mais reprovações"
   ]
  },
  {
   "cell_type": "code",
   "execution_count": null,
   "metadata": {
    "colab": {},
    "colab_type": "code",
    "id": "LRti9aKK8oyI",
    "scrolled": true
   },
   "outputs": [],
   "source": [
    "dffinal[dffinal['unidade3']<=3]['nome_curso'].value_counts()"
   ]
  },
  {
   "cell_type": "markdown",
   "metadata": {
    "colab_type": "text",
    "id": "3UzSrz-ODi84"
   },
   "source": [
    "# O curso de medicina tem algumas matérias com apenas duas unidades"
   ]
  },
  {
   "cell_type": "code",
   "execution_count": null,
   "metadata": {
    "colab": {},
    "colab_type": "code",
    "id": "5L6lKj60Di84"
   },
   "outputs": [],
   "source": [
    "dffinal[dffinal['nome_curso']=='MEDICINA']['qtd_unidades'].value_counts()"
   ]
  },
  {
   "cell_type": "code",
   "execution_count": null,
   "metadata": {
    "colab": {},
    "colab_type": "code",
    "id": "mCRaZY8k8oyK"
   },
   "outputs": [],
   "source": [
    "dffinal[dffinal['nome_curso']=='MEDICINA']['resultado'].value_counts()"
   ]
  },
  {
   "cell_type": "markdown",
   "metadata": {
    "colab_type": "text",
    "id": "7Bz_xUuE8oyM"
   },
   "source": [
    "O curso de medicina é o curso com mais observações "
   ]
  },
  {
   "cell_type": "code",
   "execution_count": null,
   "metadata": {
    "colab": {},
    "colab_type": "code",
    "id": "beKB9Ddi8oyM",
    "scrolled": true
   },
   "outputs": [],
   "source": [
    "obCursos = dffinal.groupby(['nome_curso','semestre_ano']).size().reset_index(name='observacoes').sort_values(by='observacoes',ascending=False)\n",
    "obCursos"
   ]
  },
  {
   "cell_type": "markdown",
   "metadata": {
    "colab_type": "text",
    "id": "96yn38DO8oyQ"
   },
   "source": [
    "# Observação interessante\n",
    "Medicina é o curso com mais aprovações, seguido de CIÊNCIAS E TECNOLOGIA porém, está tem uma maior observação com relação a aprovação por nota!"
   ]
  },
  {
   "cell_type": "code",
   "execution_count": null,
   "metadata": {
    "colab": {},
    "colab_type": "code",
    "id": "7Q1-HwRX8oyQ",
    "scrolled": true
   },
   "outputs": [],
   "source": [
    "# categorizando por semestre\n",
    "dffinal.groupby(['nome_curso','semestre_ano','resultado']).size().reset_index(name='observacoes').sort_values(by='observacoes',ascending=False)"
   ]
  },
  {
   "cell_type": "code",
   "execution_count": null,
   "metadata": {
    "colab": {},
    "colab_type": "code",
    "id": "KCHJEFjy8oyR",
    "scrolled": true
   },
   "outputs": [],
   "source": [
    "#separando no total\n",
    "dffinal.groupby(['nome_curso','resultado']).size().reset_index(name='observacoes').sort_values(by='observacoes',ascending=False)"
   ]
  },
  {
   "cell_type": "code",
   "execution_count": null,
   "metadata": {
    "colab": {},
    "colab_type": "code",
    "id": "ZZVVQe1v8oyU"
   },
   "outputs": [],
   "source": [
    "#Funcões utilizadas\n",
    "def someValues(df):\n",
    "    df['total'] = df['APROVADO']+df['APROVADO POR NOTA']+ df['CANCELADO']+df['DESISTENCIA']+df['DISPENSADO'] +df['EM ESPERA']+df['EXCLUIDA']+ df['MATRICULADO'] +df['REPROVADO']+df['REPROVADO POR FALTAS']+df['REPROVADO POR MÉDIA E POR FALTAS']+df['REPROVADO POR NOTA']+ df['REPROVADO POR NOTA E FALTA']+ df['TRANCADO']\n",
    "    return df\n",
    "def getPorcent(df):\n",
    "    df['APROVADO']=df['APROVADO']/df['total']\n",
    "    df['APROVADO POR NOTA']=df['APROVADO POR NOTA']/df['total']\n",
    "    df['CANCELADO']=df['CANCELADO']/df['total']\n",
    "    df['DESISTENCIA']=df['DESISTENCIA']/df['total']\n",
    "    df['DISPENSADO']=df['DISPENSADO']/df['total']\n",
    "    df['EM ESPERA']=df['EM ESPERA']/df['total']\n",
    "    df['EXCLUIDA']=df['EXCLUIDA']/df['total']\n",
    "    df['MATRICULADO']=df['MATRICULADO']/df['total']\n",
    "    df['REPROVADO']=df['REPROVADO']/df['total']\n",
    "    df['REPROVADO POR FALTAS']=df['REPROVADO POR FALTAS']/df['total']\n",
    "    df['REPROVADO POR MÉDIA E POR FALTAS']=df['REPROVADO POR MÉDIA E POR FALTAS']/df['total']\n",
    "    df['REPROVADO POR NOTA']=df['REPROVADO POR NOTA']/df['total']\n",
    "    df['REPROVADO POR NOTA E FALTA']=df['REPROVADO POR NOTA E FALTA']/df['total']\n",
    "    df['TRANCADO']=df['TRANCADO']/df['total']\n",
    "    df = df*100 \n",
    "    df['total'] = df['total']/100\n",
    "    return df"
   ]
  },
  {
   "cell_type": "markdown",
   "metadata": {
    "colab_type": "text",
    "id": "J3y8iYbl8oyV"
   },
   "source": [
    "# Porcentagens\n",
    "Vejamos as porcentagens de aprovações e reprovações de cada curso, e seus indices"
   ]
  },
  {
   "cell_type": "code",
   "execution_count": null,
   "metadata": {
    "colab": {},
    "colab_type": "code",
    "id": "Pk-mXBdY8oyW",
    "scrolled": true
   },
   "outputs": [],
   "source": [
    "dfporcent = dffinal.groupby(['nome_curso','resultado']).size().reset_index(name='total')"
   ]
  },
  {
   "cell_type": "code",
   "execution_count": null,
   "metadata": {
    "colab": {},
    "colab_type": "code",
    "id": "7EnI41rI8oyX",
    "scrolled": true
   },
   "outputs": [],
   "source": [
    "dfporcent = dfporcent.pivot(index='nome_curso', columns='resultado')['total']\n",
    "dfporcent.fillna(0,inplace=True)"
   ]
  },
  {
   "cell_type": "code",
   "execution_count": null,
   "metadata": {
    "colab": {},
    "colab_type": "code",
    "id": "RBqyYziN8oyX",
    "scrolled": true
   },
   "outputs": [],
   "source": [
    "dfporcent = someValues(dfporcent)\n",
    "dfporcent = getPorcent(dfporcent)\n",
    "dfporcent = dfporcent.round()"
   ]
  },
  {
   "cell_type": "code",
   "execution_count": null,
   "metadata": {
    "colab": {},
    "colab_type": "code",
    "id": "ANsn4Izq8oyY"
   },
   "outputs": [],
   "source": [
    "dfporcent.columns"
   ]
  },
  {
   "cell_type": "code",
   "execution_count": null,
   "metadata": {
    "colab": {},
    "colab_type": "code",
    "id": "VSbcGrKe8oyZ"
   },
   "outputs": [],
   "source": [
    "dfporcent.head()"
   ]
  },
  {
   "cell_type": "code",
   "execution_count": null,
   "metadata": {
    "colab": {},
    "colab_type": "code",
    "id": "CBSj5sk58oyc",
    "scrolled": true
   },
   "outputs": [],
   "source": [
    "# o curso CIÊNCIAS E TECNOLOGIA é o com a menor porcentagem de aprovações\n",
    "dfporcent.sort_values(by='APROVADO',ascending=True)"
   ]
  },
  {
   "cell_type": "code",
   "execution_count": null,
   "metadata": {
    "colab": {},
    "colab_type": "code",
    "id": "0PmYs1iQ8oyf",
    "scrolled": true
   },
   "outputs": [],
   "source": [
    "# o curso com mais aprovações é o curso de medicina\n",
    "dfporcent.sort_values(by='total',ascending=False)"
   ]
  },
  {
   "cell_type": "code",
   "execution_count": null,
   "metadata": {
    "colab": {},
    "colab_type": "code",
    "id": "FlDFLS4z8oyh"
   },
   "outputs": [],
   "source": [
    "dffinal.shape"
   ]
  },
  {
   "cell_type": "code",
   "execution_count": null,
   "metadata": {
    "colab": {},
    "colab_type": "code",
    "id": "ci1O2PEf8oyi"
   },
   "outputs": [],
   "source": [
    "dffinal.isnull().sum()"
   ]
  },
  {
   "cell_type": "markdown",
   "metadata": {
    "colab_type": "text",
    "id": "EAce96T58Tbu"
   },
   "source": [
    "# Visualizando dados dos professores"
   ]
  },
  {
   "cell_type": "code",
   "execution_count": null,
   "metadata": {
    "colab": {},
    "colab_type": "code",
    "id": "ybw5GDO6Di9H"
   },
   "outputs": [],
   "source": [
    "dffinal['nome_docente'].value_counts()"
   ]
  },
  {
   "cell_type": "code",
   "execution_count": null,
   "metadata": {
    "colab": {},
    "colab_type": "code",
    "id": "r29L_mWwDi9H"
   },
   "outputs": [],
   "source": []
  },
  {
   "cell_type": "code",
   "execution_count": null,
   "metadata": {
    "colab": {},
    "colab_type": "code",
    "id": "CaYp-EkUDi9I"
   },
   "outputs": [],
   "source": []
  },
  {
   "cell_type": "code",
   "execution_count": null,
   "metadata": {
    "colab": {},
    "colab_type": "code",
    "id": "v6gzIgo9Di9I"
   },
   "outputs": [],
   "source": []
  },
  {
   "cell_type": "code",
   "execution_count": null,
   "metadata": {
    "colab": {},
    "colab_type": "code",
    "id": "DKSNr4gfDi9I"
   },
   "outputs": [],
   "source": []
  },
  {
   "cell_type": "code",
   "execution_count": null,
   "metadata": {
    "colab": {},
    "colab_type": "code",
    "id": "v64S0l_F8hdQ",
    "scrolled": true
   },
   "outputs": [],
   "source": []
  }
 ],
 "metadata": {
  "colab": {
   "collapsed_sections": [],
   "name": "newModel2_0.ipynb",
   "provenance": [],
   "version": "0.3.2"
  },
  "kernelspec": {
   "display_name": "Python 3",
   "language": "python",
   "name": "python3"
  },
  "language_info": {
   "codemirror_mode": {
    "name": "ipython",
    "version": 3
   },
   "file_extension": ".py",
   "mimetype": "text/x-python",
   "name": "python",
   "nbconvert_exporter": "python",
   "pygments_lexer": "ipython3",
   "version": "3.6.5"
  }
 },
 "nbformat": 4,
 "nbformat_minor": 1
}
